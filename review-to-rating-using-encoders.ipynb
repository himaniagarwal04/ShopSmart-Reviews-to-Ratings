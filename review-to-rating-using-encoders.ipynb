{
 "cells": [
  {
   "cell_type": "code",
   "execution_count": 1,
   "id": "950f792e",
   "metadata": {
    "_cell_guid": "b1076dfc-b9ad-4769-8c92-a6c4dae69d19",
    "_uuid": "8f2839f25d086af736a60e9eeb907d3b93b6e0e5",
    "execution": {
     "iopub.execute_input": "2023-07-07T05:08:31.055267Z",
     "iopub.status.busy": "2023-07-07T05:08:31.054830Z",
     "iopub.status.idle": "2023-07-07T05:08:31.072907Z",
     "shell.execute_reply": "2023-07-07T05:08:31.071858Z"
    },
    "papermill": {
     "duration": 0.037926,
     "end_time": "2023-07-07T05:08:31.074988",
     "exception": false,
     "start_time": "2023-07-07T05:08:31.037062",
     "status": "completed"
    },
    "tags": []
   },
   "outputs": [
    {
     "name": "stdout",
     "output_type": "stream",
     "text": [
      "/kaggle/input/flipkart-product-review-dataset/flipkart_product.csv\n"
     ]
    }
   ],
   "source": [
    "# This Python 3 environment comes with many helpful analytics libraries installed\n",
    "# It is defined by the kaggle/python Docker image: https://github.com/kaggle/docker-python\n",
    "# For example, here's several helpful packages to load\n",
    "\n",
    "import numpy as np # linear algebra\n",
    "import pandas as pd # data processing, CSV file I/O (e.g. pd.read_csv)\n",
    "\n",
    "# Input data files are available in the read-only \"../input/\" directory\n",
    "# For example, running this (by clicking run or pressing Shift+Enter) will list all files under the input directory\n",
    "\n",
    "import os\n",
    "for dirname, _, filenames in os.walk('/kaggle/input'):\n",
    "    for filename in filenames:\n",
    "        print(os.path.join(dirname, filename))\n",
    "\n",
    "# You can write up to 20GB to the current directory (/kaggle/working/) that gets preserved as output when you create a version using \"Save & Run All\" \n",
    "# You can also write temporary files to /kaggle/temp/, but they won't be saved outside of the current session"
   ]
  },
  {
   "cell_type": "code",
   "execution_count": 2,
   "id": "66c554fa",
   "metadata": {
    "execution": {
     "iopub.execute_input": "2023-07-07T05:08:31.103896Z",
     "iopub.status.busy": "2023-07-07T05:08:31.103218Z",
     "iopub.status.idle": "2023-07-07T05:08:31.742390Z",
     "shell.execute_reply": "2023-07-07T05:08:31.741273Z"
    },
    "papermill": {
     "duration": 0.65685,
     "end_time": "2023-07-07T05:08:31.745153",
     "exception": false,
     "start_time": "2023-07-07T05:08:31.088303",
     "status": "completed"
    },
    "tags": []
   },
   "outputs": [],
   "source": [
    "df=pd.read_csv(\"/kaggle/input/flipkart-product-review-dataset/flipkart_product.csv\",encoding=\"unicode_escape\")"
   ]
  },
  {
   "cell_type": "code",
   "execution_count": 3,
   "id": "cff505fd",
   "metadata": {
    "execution": {
     "iopub.execute_input": "2023-07-07T05:08:31.774929Z",
     "iopub.status.busy": "2023-07-07T05:08:31.774532Z",
     "iopub.status.idle": "2023-07-07T05:08:31.801839Z",
     "shell.execute_reply": "2023-07-07T05:08:31.800994Z"
    },
    "papermill": {
     "duration": 0.044993,
     "end_time": "2023-07-07T05:08:31.803742",
     "exception": false,
     "start_time": "2023-07-07T05:08:31.758749",
     "status": "completed"
    },
    "tags": []
   },
   "outputs": [
    {
     "data": {
      "text/html": [
       "<div>\n",
       "<style scoped>\n",
       "    .dataframe tbody tr th:only-of-type {\n",
       "        vertical-align: middle;\n",
       "    }\n",
       "\n",
       "    .dataframe tbody tr th {\n",
       "        vertical-align: top;\n",
       "    }\n",
       "\n",
       "    .dataframe thead th {\n",
       "        text-align: right;\n",
       "    }\n",
       "</style>\n",
       "<table border=\"1\" class=\"dataframe\">\n",
       "  <thead>\n",
       "    <tr style=\"text-align: right;\">\n",
       "      <th></th>\n",
       "      <th>ProductName</th>\n",
       "      <th>Price</th>\n",
       "      <th>Rate</th>\n",
       "      <th>Review</th>\n",
       "      <th>Summary</th>\n",
       "    </tr>\n",
       "  </thead>\n",
       "  <tbody>\n",
       "    <tr>\n",
       "      <th>0</th>\n",
       "      <td>Candes 12 L Room/Personal Air Cooler?ÿ?ÿ(White...</td>\n",
       "      <td>??3,999</td>\n",
       "      <td>5</td>\n",
       "      <td>Super!</td>\n",
       "      <td>Great cooler.. excellent air flow and for this...</td>\n",
       "    </tr>\n",
       "    <tr>\n",
       "      <th>1</th>\n",
       "      <td>Candes 12 L Room/Personal Air Cooler?ÿ?ÿ(White...</td>\n",
       "      <td>??3,999</td>\n",
       "      <td>5</td>\n",
       "      <td>Awesome</td>\n",
       "      <td>Best budget 2 fit cooler. Nice cooling</td>\n",
       "    </tr>\n",
       "    <tr>\n",
       "      <th>2</th>\n",
       "      <td>Candes 12 L Room/Personal Air Cooler?ÿ?ÿ(White...</td>\n",
       "      <td>??3,999</td>\n",
       "      <td>3</td>\n",
       "      <td>Fair</td>\n",
       "      <td>The quality is good but the power of air is de...</td>\n",
       "    </tr>\n",
       "    <tr>\n",
       "      <th>3</th>\n",
       "      <td>Candes 12 L Room/Personal Air Cooler?ÿ?ÿ(White...</td>\n",
       "      <td>??3,999</td>\n",
       "      <td>1</td>\n",
       "      <td>Useless product</td>\n",
       "      <td>Very bad product it's a only a fan</td>\n",
       "    </tr>\n",
       "    <tr>\n",
       "      <th>4</th>\n",
       "      <td>Candes 12 L Room/Personal Air Cooler?ÿ?ÿ(White...</td>\n",
       "      <td>??3,999</td>\n",
       "      <td>3</td>\n",
       "      <td>Fair</td>\n",
       "      <td>Ok ok product</td>\n",
       "    </tr>\n",
       "  </tbody>\n",
       "</table>\n",
       "</div>"
      ],
      "text/plain": [
       "                                         ProductName     Price Rate  \\\n",
       "0  Candes 12 L Room/Personal Air Cooler?ÿ?ÿ(White...  ??3,999    5   \n",
       "1  Candes 12 L Room/Personal Air Cooler?ÿ?ÿ(White...  ??3,999    5   \n",
       "2  Candes 12 L Room/Personal Air Cooler?ÿ?ÿ(White...  ??3,999    3   \n",
       "3  Candes 12 L Room/Personal Air Cooler?ÿ?ÿ(White...  ??3,999    1   \n",
       "4  Candes 12 L Room/Personal Air Cooler?ÿ?ÿ(White...  ??3,999    3   \n",
       "\n",
       "            Review                                            Summary  \n",
       "0           Super!  Great cooler.. excellent air flow and for this...  \n",
       "1          Awesome             Best budget 2 fit cooler. Nice cooling  \n",
       "2             Fair  The quality is good but the power of air is de...  \n",
       "3  Useless product                 Very bad product it's a only a fan  \n",
       "4             Fair                                      Ok ok product  "
      ]
     },
     "execution_count": 3,
     "metadata": {},
     "output_type": "execute_result"
    }
   ],
   "source": [
    "df.head()"
   ]
  },
  {
   "cell_type": "code",
   "execution_count": 4,
   "id": "00841823",
   "metadata": {
    "execution": {
     "iopub.execute_input": "2023-07-07T05:08:31.834395Z",
     "iopub.status.busy": "2023-07-07T05:08:31.833472Z",
     "iopub.status.idle": "2023-07-07T05:08:31.846530Z",
     "shell.execute_reply": "2023-07-07T05:08:31.845040Z"
    },
    "papermill": {
     "duration": 0.031329,
     "end_time": "2023-07-07T05:08:31.849411",
     "exception": false,
     "start_time": "2023-07-07T05:08:31.818082",
     "status": "completed"
    },
    "tags": []
   },
   "outputs": [],
   "source": [
    "df = df.drop(['ProductName','Price','Review'], axis = 1)"
   ]
  },
  {
   "cell_type": "code",
   "execution_count": 5,
   "id": "22e57fec",
   "metadata": {
    "execution": {
     "iopub.execute_input": "2023-07-07T05:08:31.879487Z",
     "iopub.status.busy": "2023-07-07T05:08:31.879127Z",
     "iopub.status.idle": "2023-07-07T05:08:31.949211Z",
     "shell.execute_reply": "2023-07-07T05:08:31.947951Z"
    },
    "papermill": {
     "duration": 0.088018,
     "end_time": "2023-07-07T05:08:31.951772",
     "exception": false,
     "start_time": "2023-07-07T05:08:31.863754",
     "status": "completed"
    },
    "tags": []
   },
   "outputs": [
    {
     "data": {
      "text/html": [
       "<div>\n",
       "<style scoped>\n",
       "    .dataframe tbody tr th:only-of-type {\n",
       "        vertical-align: middle;\n",
       "    }\n",
       "\n",
       "    .dataframe tbody tr th {\n",
       "        vertical-align: top;\n",
       "    }\n",
       "\n",
       "    .dataframe thead th {\n",
       "        text-align: right;\n",
       "    }\n",
       "</style>\n",
       "<table border=\"1\" class=\"dataframe\">\n",
       "  <thead>\n",
       "    <tr style=\"text-align: right;\">\n",
       "      <th></th>\n",
       "      <th>Total</th>\n",
       "      <th>Percent</th>\n",
       "    </tr>\n",
       "  </thead>\n",
       "  <tbody>\n",
       "    <tr>\n",
       "      <th>Summary</th>\n",
       "      <td>14</td>\n",
       "      <td>0.000074</td>\n",
       "    </tr>\n",
       "    <tr>\n",
       "      <th>Rate</th>\n",
       "      <td>1</td>\n",
       "      <td>0.000005</td>\n",
       "    </tr>\n",
       "  </tbody>\n",
       "</table>\n",
       "</div>"
      ],
      "text/plain": [
       "         Total   Percent\n",
       "Summary     14  0.000074\n",
       "Rate         1  0.000005"
      ]
     },
     "execution_count": 5,
     "metadata": {},
     "output_type": "execute_result"
    }
   ],
   "source": [
    "# Checking for the Missing values\n",
    "# Using isnull fuction to count the total null values in each field\n",
    "total = df.isnull().sum().sort_values(ascending=False) \n",
    "# Percent of missing values is estimated by dividing total missing and the original total\n",
    "percent = (df.isnull().sum()/df.isnull().count()).sort_values(ascending=False)\n",
    "# Concatenating the Total and Percent fields sing pandas concat fucntion\n",
    "missing_data = pd.concat([total, percent], axis=1, keys=['Total', 'Percent'])\n",
    "# Displays top 20 from our max sorted list\n",
    "missing_data.head()"
   ]
  },
  {
   "cell_type": "code",
   "execution_count": 6,
   "id": "76244752",
   "metadata": {
    "execution": {
     "iopub.execute_input": "2023-07-07T05:08:31.982939Z",
     "iopub.status.busy": "2023-07-07T05:08:31.981954Z",
     "iopub.status.idle": "2023-07-07T05:08:32.012384Z",
     "shell.execute_reply": "2023-07-07T05:08:32.011196Z"
    },
    "papermill": {
     "duration": 0.048381,
     "end_time": "2023-07-07T05:08:32.014898",
     "exception": false,
     "start_time": "2023-07-07T05:08:31.966517",
     "status": "completed"
    },
    "tags": []
   },
   "outputs": [],
   "source": [
    "df = df.dropna(subset=['Summary'])"
   ]
  },
  {
   "cell_type": "code",
   "execution_count": 7,
   "id": "0436997f",
   "metadata": {
    "execution": {
     "iopub.execute_input": "2023-07-07T05:08:32.044996Z",
     "iopub.status.busy": "2023-07-07T05:08:32.044037Z",
     "iopub.status.idle": "2023-07-07T05:08:32.067962Z",
     "shell.execute_reply": "2023-07-07T05:08:32.066965Z"
    },
    "papermill": {
     "duration": 0.041363,
     "end_time": "2023-07-07T05:08:32.070368",
     "exception": false,
     "start_time": "2023-07-07T05:08:32.029005",
     "status": "completed"
    },
    "tags": []
   },
   "outputs": [],
   "source": [
    "df = df.dropna(subset=['Rate'])"
   ]
  },
  {
   "cell_type": "code",
   "execution_count": 8,
   "id": "8ad261e6",
   "metadata": {
    "execution": {
     "iopub.execute_input": "2023-07-07T05:08:32.099562Z",
     "iopub.status.busy": "2023-07-07T05:08:32.099221Z",
     "iopub.status.idle": "2023-07-07T05:08:32.166349Z",
     "shell.execute_reply": "2023-07-07T05:08:32.165361Z"
    },
    "papermill": {
     "duration": 0.083949,
     "end_time": "2023-07-07T05:08:32.168457",
     "exception": false,
     "start_time": "2023-07-07T05:08:32.084508",
     "status": "completed"
    },
    "tags": []
   },
   "outputs": [
    {
     "data": {
      "text/html": [
       "<div>\n",
       "<style scoped>\n",
       "    .dataframe tbody tr th:only-of-type {\n",
       "        vertical-align: middle;\n",
       "    }\n",
       "\n",
       "    .dataframe tbody tr th {\n",
       "        vertical-align: top;\n",
       "    }\n",
       "\n",
       "    .dataframe thead th {\n",
       "        text-align: right;\n",
       "    }\n",
       "</style>\n",
       "<table border=\"1\" class=\"dataframe\">\n",
       "  <thead>\n",
       "    <tr style=\"text-align: right;\">\n",
       "      <th></th>\n",
       "      <th>Total</th>\n",
       "      <th>Percent</th>\n",
       "    </tr>\n",
       "  </thead>\n",
       "  <tbody>\n",
       "    <tr>\n",
       "      <th>Rate</th>\n",
       "      <td>0</td>\n",
       "      <td>0.0</td>\n",
       "    </tr>\n",
       "    <tr>\n",
       "      <th>Summary</th>\n",
       "      <td>0</td>\n",
       "      <td>0.0</td>\n",
       "    </tr>\n",
       "  </tbody>\n",
       "</table>\n",
       "</div>"
      ],
      "text/plain": [
       "         Total  Percent\n",
       "Rate         0      0.0\n",
       "Summary      0      0.0"
      ]
     },
     "execution_count": 8,
     "metadata": {},
     "output_type": "execute_result"
    }
   ],
   "source": [
    "# Checking for the Missing values\n",
    "# Using isnull fuction to count the total null values in each field\n",
    "total = df.isnull().sum().sort_values(ascending=False) \n",
    "# Percent of missing values is estimated by dividing total missing and the original total\n",
    "percent = (df.isnull().sum()/df.isnull().count()).sort_values(ascending=False)\n",
    "# Concatenating the Total and Percent fields sing pandas concat fucntion\n",
    "missing_data = pd.concat([total, percent], axis=1, keys=['Total', 'Percent'])\n",
    "# Displays top 20 from our max sorted list\n",
    "missing_data.head()"
   ]
  },
  {
   "cell_type": "code",
   "execution_count": 9,
   "id": "3c0af213",
   "metadata": {
    "execution": {
     "iopub.execute_input": "2023-07-07T05:08:32.198533Z",
     "iopub.status.busy": "2023-07-07T05:08:32.197738Z",
     "iopub.status.idle": "2023-07-07T05:08:32.206787Z",
     "shell.execute_reply": "2023-07-07T05:08:32.205845Z"
    },
    "papermill": {
     "duration": 0.026137,
     "end_time": "2023-07-07T05:08:32.208627",
     "exception": false,
     "start_time": "2023-07-07T05:08:32.182490",
     "status": "completed"
    },
    "tags": []
   },
   "outputs": [
    {
     "data": {
      "text/html": [
       "<div>\n",
       "<style scoped>\n",
       "    .dataframe tbody tr th:only-of-type {\n",
       "        vertical-align: middle;\n",
       "    }\n",
       "\n",
       "    .dataframe tbody tr th {\n",
       "        vertical-align: top;\n",
       "    }\n",
       "\n",
       "    .dataframe thead th {\n",
       "        text-align: right;\n",
       "    }\n",
       "</style>\n",
       "<table border=\"1\" class=\"dataframe\">\n",
       "  <thead>\n",
       "    <tr style=\"text-align: right;\">\n",
       "      <th></th>\n",
       "      <th>Rate</th>\n",
       "      <th>Summary</th>\n",
       "    </tr>\n",
       "  </thead>\n",
       "  <tbody>\n",
       "    <tr>\n",
       "      <th>0</th>\n",
       "      <td>5</td>\n",
       "      <td>Great cooler.. excellent air flow and for this...</td>\n",
       "    </tr>\n",
       "    <tr>\n",
       "      <th>1</th>\n",
       "      <td>5</td>\n",
       "      <td>Best budget 2 fit cooler. Nice cooling</td>\n",
       "    </tr>\n",
       "    <tr>\n",
       "      <th>2</th>\n",
       "      <td>3</td>\n",
       "      <td>The quality is good but the power of air is de...</td>\n",
       "    </tr>\n",
       "    <tr>\n",
       "      <th>3</th>\n",
       "      <td>1</td>\n",
       "      <td>Very bad product it's a only a fan</td>\n",
       "    </tr>\n",
       "    <tr>\n",
       "      <th>4</th>\n",
       "      <td>3</td>\n",
       "      <td>Ok ok product</td>\n",
       "    </tr>\n",
       "  </tbody>\n",
       "</table>\n",
       "</div>"
      ],
      "text/plain": [
       "  Rate                                            Summary\n",
       "0    5  Great cooler.. excellent air flow and for this...\n",
       "1    5             Best budget 2 fit cooler. Nice cooling\n",
       "2    3  The quality is good but the power of air is de...\n",
       "3    1                 Very bad product it's a only a fan\n",
       "4    3                                      Ok ok product"
      ]
     },
     "execution_count": 9,
     "metadata": {},
     "output_type": "execute_result"
    }
   ],
   "source": [
    "df.head()"
   ]
  },
  {
   "cell_type": "code",
   "execution_count": 10,
   "id": "6557b4ac",
   "metadata": {
    "execution": {
     "iopub.execute_input": "2023-07-07T05:08:32.239167Z",
     "iopub.status.busy": "2023-07-07T05:08:32.238534Z",
     "iopub.status.idle": "2023-07-07T05:08:32.243672Z",
     "shell.execute_reply": "2023-07-07T05:08:32.241914Z"
    },
    "papermill": {
     "duration": 0.023483,
     "end_time": "2023-07-07T05:08:32.246368",
     "exception": false,
     "start_time": "2023-07-07T05:08:32.222885",
     "status": "completed"
    },
    "tags": []
   },
   "outputs": [],
   "source": [
    "train = df"
   ]
  },
  {
   "cell_type": "code",
   "execution_count": 11,
   "id": "358faf06",
   "metadata": {
    "execution": {
     "iopub.execute_input": "2023-07-07T05:08:32.277415Z",
     "iopub.status.busy": "2023-07-07T05:08:32.277065Z",
     "iopub.status.idle": "2023-07-07T05:08:32.352337Z",
     "shell.execute_reply": "2023-07-07T05:08:32.350800Z"
    },
    "papermill": {
     "duration": 0.09386,
     "end_time": "2023-07-07T05:08:32.354924",
     "exception": false,
     "start_time": "2023-07-07T05:08:32.261064",
     "status": "completed"
    },
    "tags": []
   },
   "outputs": [],
   "source": [
    "train1=train[train['Rate']=='1']\n",
    "train2=train[train['Rate']=='2']\n",
    "train3=train[train['Rate']=='3']\n",
    "train4=train[train['Rate']=='4']\n",
    "train5=train[train['Rate']=='5']"
   ]
  },
  {
   "cell_type": "code",
   "execution_count": 12,
   "id": "09355615",
   "metadata": {
    "execution": {
     "iopub.execute_input": "2023-07-07T05:08:32.387664Z",
     "iopub.status.busy": "2023-07-07T05:08:32.386483Z",
     "iopub.status.idle": "2023-07-07T05:08:32.396056Z",
     "shell.execute_reply": "2023-07-07T05:08:32.394460Z"
    },
    "papermill": {
     "duration": 0.028628,
     "end_time": "2023-07-07T05:08:32.398617",
     "exception": false,
     "start_time": "2023-07-07T05:08:32.369989",
     "status": "completed"
    },
    "tags": []
   },
   "outputs": [
    {
     "data": {
      "text/plain": [
       "((19607, 2), (6234, 2), (15680, 2), (39649, 2), (108686, 2))"
      ]
     },
     "execution_count": 12,
     "metadata": {},
     "output_type": "execute_result"
    }
   ],
   "source": [
    "train1.shape, train2.shape, train3.shape, train4.shape, train5.shape"
   ]
  },
  {
   "cell_type": "code",
   "execution_count": 13,
   "id": "ef6d804b",
   "metadata": {
    "execution": {
     "iopub.execute_input": "2023-07-07T05:08:32.429055Z",
     "iopub.status.busy": "2023-07-07T05:08:32.428618Z",
     "iopub.status.idle": "2023-07-07T05:08:32.435031Z",
     "shell.execute_reply": "2023-07-07T05:08:32.433998Z"
    },
    "papermill": {
     "duration": 0.024069,
     "end_time": "2023-07-07T05:08:32.437067",
     "exception": false,
     "start_time": "2023-07-07T05:08:32.412998",
     "status": "completed"
    },
    "tags": []
   },
   "outputs": [],
   "source": [
    "train1=train1[:int(train1.shape[0]/100)]\n",
    "train2=train2[:int(train2.shape[0]/100)]\n",
    "train3=train3[:int(train3.shape[0]/100)]\n",
    "train4=train4[:int(train4.shape[0]/100)]\n",
    "train5=train5[:int(train5.shape[0]/100)]"
   ]
  },
  {
   "cell_type": "code",
   "execution_count": 14,
   "id": "f6fcb7fe",
   "metadata": {
    "execution": {
     "iopub.execute_input": "2023-07-07T05:08:32.468330Z",
     "iopub.status.busy": "2023-07-07T05:08:32.467942Z",
     "iopub.status.idle": "2023-07-07T05:08:32.475894Z",
     "shell.execute_reply": "2023-07-07T05:08:32.474828Z"
    },
    "papermill": {
     "duration": 0.026087,
     "end_time": "2023-07-07T05:08:32.477973",
     "exception": false,
     "start_time": "2023-07-07T05:08:32.451886",
     "status": "completed"
    },
    "tags": []
   },
   "outputs": [
    {
     "data": {
      "text/plain": [
       "((196, 2), (62, 2), (156, 2), (396, 2), (1086, 2))"
      ]
     },
     "execution_count": 14,
     "metadata": {},
     "output_type": "execute_result"
    }
   ],
   "source": [
    "train1.shape, train2.shape, train3.shape, train4.shape, train5.shape"
   ]
  },
  {
   "cell_type": "code",
   "execution_count": 15,
   "id": "0098fd9b",
   "metadata": {
    "execution": {
     "iopub.execute_input": "2023-07-07T05:08:32.508477Z",
     "iopub.status.busy": "2023-07-07T05:08:32.508107Z",
     "iopub.status.idle": "2023-07-07T05:08:32.515704Z",
     "shell.execute_reply": "2023-07-07T05:08:32.513748Z"
    },
    "papermill": {
     "duration": 0.025946,
     "end_time": "2023-07-07T05:08:32.518382",
     "exception": false,
     "start_time": "2023-07-07T05:08:32.492436",
     "status": "completed"
    },
    "tags": []
   },
   "outputs": [],
   "source": [
    "train=pd.concat([train1,train2,train3,train4,train5],axis=0)"
   ]
  },
  {
   "cell_type": "code",
   "execution_count": 16,
   "id": "758db48c",
   "metadata": {
    "execution": {
     "iopub.execute_input": "2023-07-07T05:08:32.550084Z",
     "iopub.status.busy": "2023-07-07T05:08:32.549713Z",
     "iopub.status.idle": "2023-07-07T05:08:32.556500Z",
     "shell.execute_reply": "2023-07-07T05:08:32.555281Z"
    },
    "papermill": {
     "duration": 0.02572,
     "end_time": "2023-07-07T05:08:32.559081",
     "exception": false,
     "start_time": "2023-07-07T05:08:32.533361",
     "status": "completed"
    },
    "tags": []
   },
   "outputs": [
    {
     "data": {
      "text/plain": [
       "(1896, 2)"
      ]
     },
     "execution_count": 16,
     "metadata": {},
     "output_type": "execute_result"
    }
   ],
   "source": [
    "train.shape"
   ]
  },
  {
   "cell_type": "code",
   "execution_count": 17,
   "id": "338c8b7c",
   "metadata": {
    "execution": {
     "iopub.execute_input": "2023-07-07T05:08:32.590302Z",
     "iopub.status.busy": "2023-07-07T05:08:32.589937Z",
     "iopub.status.idle": "2023-07-07T05:08:32.597686Z",
     "shell.execute_reply": "2023-07-07T05:08:32.596514Z"
    },
    "papermill": {
     "duration": 0.026533,
     "end_time": "2023-07-07T05:08:32.600338",
     "exception": false,
     "start_time": "2023-07-07T05:08:32.573805",
     "status": "completed"
    },
    "tags": []
   },
   "outputs": [
    {
     "data": {
      "text/plain": [
       "Index(['Rate', 'Summary'], dtype='object')"
      ]
     },
     "execution_count": 17,
     "metadata": {},
     "output_type": "execute_result"
    }
   ],
   "source": [
    "train.columns"
   ]
  },
  {
   "cell_type": "code",
   "execution_count": 18,
   "id": "3584dbea",
   "metadata": {
    "execution": {
     "iopub.execute_input": "2023-07-07T05:08:32.631550Z",
     "iopub.status.busy": "2023-07-07T05:08:32.631159Z",
     "iopub.status.idle": "2023-07-07T05:08:32.641722Z",
     "shell.execute_reply": "2023-07-07T05:08:32.640523Z"
    },
    "papermill": {
     "duration": 0.029083,
     "end_time": "2023-07-07T05:08:32.644242",
     "exception": false,
     "start_time": "2023-07-07T05:08:32.615159",
     "status": "completed"
    },
    "tags": []
   },
   "outputs": [
    {
     "data": {
      "text/html": [
       "<div>\n",
       "<style scoped>\n",
       "    .dataframe tbody tr th:only-of-type {\n",
       "        vertical-align: middle;\n",
       "    }\n",
       "\n",
       "    .dataframe tbody tr th {\n",
       "        vertical-align: top;\n",
       "    }\n",
       "\n",
       "    .dataframe thead th {\n",
       "        text-align: right;\n",
       "    }\n",
       "</style>\n",
       "<table border=\"1\" class=\"dataframe\">\n",
       "  <thead>\n",
       "    <tr style=\"text-align: right;\">\n",
       "      <th></th>\n",
       "      <th>Rate</th>\n",
       "      <th>Summary</th>\n",
       "    </tr>\n",
       "  </thead>\n",
       "  <tbody>\n",
       "    <tr>\n",
       "      <th>3</th>\n",
       "      <td>1</td>\n",
       "      <td>Very bad product it's a only a fan</td>\n",
       "    </tr>\n",
       "    <tr>\n",
       "      <th>8</th>\n",
       "      <td>1</td>\n",
       "      <td>Very bad cooler</td>\n",
       "    </tr>\n",
       "    <tr>\n",
       "      <th>48</th>\n",
       "      <td>1</td>\n",
       "      <td>Small wire and moter capacity is very low fan ...</td>\n",
       "    </tr>\n",
       "    <tr>\n",
       "      <th>59</th>\n",
       "      <td>1</td>\n",
       "      <td>The product doesn't cool as rated by other cus...</td>\n",
       "    </tr>\n",
       "    <tr>\n",
       "      <th>67</th>\n",
       "      <td>1</td>\n",
       "      <td>Cooler not provide cool air... Because 1year e...</td>\n",
       "    </tr>\n",
       "  </tbody>\n",
       "</table>\n",
       "</div>"
      ],
      "text/plain": [
       "   Rate                                            Summary\n",
       "3     1                 Very bad product it's a only a fan\n",
       "8     1                                    Very bad cooler\n",
       "48    1  Small wire and moter capacity is very low fan ...\n",
       "59    1  The product doesn't cool as rated by other cus...\n",
       "67    1  Cooler not provide cool air... Because 1year e..."
      ]
     },
     "execution_count": 18,
     "metadata": {},
     "output_type": "execute_result"
    }
   ],
   "source": [
    "train.head()"
   ]
  },
  {
   "cell_type": "code",
   "execution_count": 19,
   "id": "1f8964bc",
   "metadata": {
    "execution": {
     "iopub.execute_input": "2023-07-07T05:08:32.676247Z",
     "iopub.status.busy": "2023-07-07T05:08:32.675906Z",
     "iopub.status.idle": "2023-07-07T05:08:32.679292Z",
     "shell.execute_reply": "2023-07-07T05:08:32.678632Z"
    },
    "papermill": {
     "duration": 0.021981,
     "end_time": "2023-07-07T05:08:32.681348",
     "exception": false,
     "start_time": "2023-07-07T05:08:32.659367",
     "status": "completed"
    },
    "tags": []
   },
   "outputs": [],
   "source": [
    "df = train"
   ]
  },
  {
   "cell_type": "markdown",
   "id": "0ebd5913",
   "metadata": {
    "papermill": {
     "duration": 0.01495,
     "end_time": "2023-07-07T05:08:32.711455",
     "exception": false,
     "start_time": "2023-07-07T05:08:32.696505",
     "status": "completed"
    },
    "tags": []
   },
   "source": [
    "# Remove punctuations"
   ]
  },
  {
   "cell_type": "code",
   "execution_count": 20,
   "id": "e110f791",
   "metadata": {
    "execution": {
     "iopub.execute_input": "2023-07-07T05:08:32.743724Z",
     "iopub.status.busy": "2023-07-07T05:08:32.743112Z",
     "iopub.status.idle": "2023-07-07T05:08:32.748787Z",
     "shell.execute_reply": "2023-07-07T05:08:32.747586Z"
    },
    "papermill": {
     "duration": 0.025372,
     "end_time": "2023-07-07T05:08:32.751815",
     "exception": false,
     "start_time": "2023-07-07T05:08:32.726443",
     "status": "completed"
    },
    "tags": []
   },
   "outputs": [],
   "source": [
    "import string\n",
    "def rmv_punc(text):\n",
    "  punct = string.punctuation\n",
    "  return text.translate(str.maketrans('', '', punct))"
   ]
  },
  {
   "cell_type": "code",
   "execution_count": 21,
   "id": "6c8d9885",
   "metadata": {
    "execution": {
     "iopub.execute_input": "2023-07-07T05:08:32.782857Z",
     "iopub.status.busy": "2023-07-07T05:08:32.782357Z",
     "iopub.status.idle": "2023-07-07T05:08:32.795010Z",
     "shell.execute_reply": "2023-07-07T05:08:32.794168Z"
    },
    "papermill": {
     "duration": 0.030295,
     "end_time": "2023-07-07T05:08:32.796975",
     "exception": false,
     "start_time": "2023-07-07T05:08:32.766680",
     "status": "completed"
    },
    "tags": []
   },
   "outputs": [],
   "source": [
    "df['Summary'] = df['Summary'].apply(lambda x: rmv_punc(x))"
   ]
  },
  {
   "cell_type": "markdown",
   "id": "3a18cc39",
   "metadata": {
    "papermill": {
     "duration": 0.014303,
     "end_time": "2023-07-07T05:08:32.825880",
     "exception": false,
     "start_time": "2023-07-07T05:08:32.811577",
     "status": "completed"
    },
    "tags": []
   },
   "source": [
    "# remove character with undefined name"
   ]
  },
  {
   "cell_type": "code",
   "execution_count": 22,
   "id": "16b6538c",
   "metadata": {
    "execution": {
     "iopub.execute_input": "2023-07-07T05:08:32.857467Z",
     "iopub.status.busy": "2023-07-07T05:08:32.856966Z",
     "iopub.status.idle": "2023-07-07T05:08:32.862449Z",
     "shell.execute_reply": "2023-07-07T05:08:32.861399Z"
    },
    "papermill": {
     "duration": 0.024612,
     "end_time": "2023-07-07T05:08:32.865401",
     "exception": false,
     "start_time": "2023-07-07T05:08:32.840789",
     "status": "completed"
    },
    "tags": []
   },
   "outputs": [],
   "source": [
    "import re\n",
    "def rmv_char(text):\n",
    "  text = re.sub('[^a-zA-Z0-9(/)]',' ', text)\n",
    "  text = re.sub('\\s+',' ', text) #remove whitespace\n",
    "  return text"
   ]
  },
  {
   "cell_type": "code",
   "execution_count": 23,
   "id": "72d10012",
   "metadata": {
    "execution": {
     "iopub.execute_input": "2023-07-07T05:08:32.896886Z",
     "iopub.status.busy": "2023-07-07T05:08:32.896301Z",
     "iopub.status.idle": "2023-07-07T05:08:32.921560Z",
     "shell.execute_reply": "2023-07-07T05:08:32.919811Z"
    },
    "papermill": {
     "duration": 0.043784,
     "end_time": "2023-07-07T05:08:32.924165",
     "exception": false,
     "start_time": "2023-07-07T05:08:32.880381",
     "status": "completed"
    },
    "tags": []
   },
   "outputs": [],
   "source": [
    "df['Summary'] = df['Summary'].apply(lambda x: rmv_char(x).lower())"
   ]
  },
  {
   "cell_type": "code",
   "execution_count": 24,
   "id": "25fcadee",
   "metadata": {
    "execution": {
     "iopub.execute_input": "2023-07-07T05:08:32.956293Z",
     "iopub.status.busy": "2023-07-07T05:08:32.955832Z",
     "iopub.status.idle": "2023-07-07T05:08:32.965240Z",
     "shell.execute_reply": "2023-07-07T05:08:32.964202Z"
    },
    "papermill": {
     "duration": 0.028575,
     "end_time": "2023-07-07T05:08:32.967807",
     "exception": false,
     "start_time": "2023-07-07T05:08:32.939232",
     "status": "completed"
    },
    "tags": []
   },
   "outputs": [
    {
     "data": {
      "text/plain": [
       "array(['1', '2', '3', '4', '5'], dtype=object)"
      ]
     },
     "execution_count": 24,
     "metadata": {},
     "output_type": "execute_result"
    }
   ],
   "source": [
    "df['Rate'].unique()"
   ]
  },
  {
   "cell_type": "code",
   "execution_count": 25,
   "id": "02154fca",
   "metadata": {
    "execution": {
     "iopub.execute_input": "2023-07-07T05:08:32.999660Z",
     "iopub.status.busy": "2023-07-07T05:08:32.999046Z",
     "iopub.status.idle": "2023-07-07T05:08:33.010338Z",
     "shell.execute_reply": "2023-07-07T05:08:33.009380Z"
    },
    "papermill": {
     "duration": 0.029565,
     "end_time": "2023-07-07T05:08:33.012373",
     "exception": false,
     "start_time": "2023-07-07T05:08:32.982808",
     "status": "completed"
    },
    "tags": []
   },
   "outputs": [
    {
     "data": {
      "text/html": [
       "<div>\n",
       "<style scoped>\n",
       "    .dataframe tbody tr th:only-of-type {\n",
       "        vertical-align: middle;\n",
       "    }\n",
       "\n",
       "    .dataframe tbody tr th {\n",
       "        vertical-align: top;\n",
       "    }\n",
       "\n",
       "    .dataframe thead th {\n",
       "        text-align: right;\n",
       "    }\n",
       "</style>\n",
       "<table border=\"1\" class=\"dataframe\">\n",
       "  <thead>\n",
       "    <tr style=\"text-align: right;\">\n",
       "      <th></th>\n",
       "      <th>Rate</th>\n",
       "      <th>Summary</th>\n",
       "    </tr>\n",
       "  </thead>\n",
       "  <tbody>\n",
       "  </tbody>\n",
       "</table>\n",
       "</div>"
      ],
      "text/plain": [
       "Empty DataFrame\n",
       "Columns: [Rate, Summary]\n",
       "Index: []"
      ]
     },
     "execution_count": 25,
     "metadata": {},
     "output_type": "execute_result"
    }
   ],
   "source": [
    "num = ['5', '3', '1', '4', '2'] \n",
    "    \n",
    "# selecting rows based on condition \n",
    "df[~df['Rate'].isin(num)]"
   ]
  },
  {
   "cell_type": "code",
   "execution_count": 26,
   "id": "50ae9345",
   "metadata": {
    "execution": {
     "iopub.execute_input": "2023-07-07T05:08:33.044995Z",
     "iopub.status.busy": "2023-07-07T05:08:33.044577Z",
     "iopub.status.idle": "2023-07-07T05:08:33.054831Z",
     "shell.execute_reply": "2023-07-07T05:08:33.053331Z"
    },
    "papermill": {
     "duration": 0.029063,
     "end_time": "2023-07-07T05:08:33.057024",
     "exception": false,
     "start_time": "2023-07-07T05:08:33.027961",
     "status": "completed"
    },
    "tags": []
   },
   "outputs": [
    {
     "data": {
      "text/plain": [
       "array(['1', '2', '3', '4', '5'], dtype=object)"
      ]
     },
     "execution_count": 26,
     "metadata": {},
     "output_type": "execute_result"
    }
   ],
   "source": [
    "df.drop(df[~df['Rate'].isin(num)].index, inplace = True)\n",
    "df['Rate'].unique()"
   ]
  },
  {
   "cell_type": "markdown",
   "id": "b1289916",
   "metadata": {
    "papermill": {
     "duration": 0.014752,
     "end_time": "2023-07-07T05:08:33.087030",
     "exception": false,
     "start_time": "2023-07-07T05:08:33.072278",
     "status": "completed"
    },
    "tags": []
   },
   "source": [
    "# Word Cloud"
   ]
  },
  {
   "cell_type": "code",
   "execution_count": 27,
   "id": "78b260e6",
   "metadata": {
    "execution": {
     "iopub.execute_input": "2023-07-07T05:08:33.119526Z",
     "iopub.status.busy": "2023-07-07T05:08:33.118576Z",
     "iopub.status.idle": "2023-07-07T05:08:35.109904Z",
     "shell.execute_reply": "2023-07-07T05:08:35.108396Z"
    },
    "papermill": {
     "duration": 2.010735,
     "end_time": "2023-07-07T05:08:35.112730",
     "exception": false,
     "start_time": "2023-07-07T05:08:33.101995",
     "status": "completed"
    },
    "tags": []
   },
   "outputs": [],
   "source": [
    "import numpy as np # linear algebra\n",
    "import pandas as pd # data processing, CSV file I/O (e.g. pd.read_csv)\n",
    "import matplotlib.pyplot as plt\n",
    "import seaborn as sns #visualize\n",
    "from textblob import TextBlob\n",
    "import nltk\n",
    "from nltk import word_tokenize, FreqDist\n",
    "from nltk.corpus import stopwords\n",
    "import re\n",
    "import wordcloud\n",
    "from PIL import Image\n",
    "from wordcloud import WordCloud "
   ]
  },
  {
   "cell_type": "code",
   "execution_count": 28,
   "id": "d462ecdd",
   "metadata": {
    "execution": {
     "iopub.execute_input": "2023-07-07T05:08:35.145222Z",
     "iopub.status.busy": "2023-07-07T05:08:35.144861Z",
     "iopub.status.idle": "2023-07-07T05:08:35.156718Z",
     "shell.execute_reply": "2023-07-07T05:08:35.155584Z"
    },
    "papermill": {
     "duration": 0.031021,
     "end_time": "2023-07-07T05:08:35.159288",
     "exception": false,
     "start_time": "2023-07-07T05:08:35.128267",
     "status": "completed"
    },
    "tags": []
   },
   "outputs": [],
   "source": [
    "ignored_words = set(stopwords.words(\"english\"))\n",
    "ignored_words.add(\"bad\")\n",
    "ignored_words.add(\"good\")\n",
    "ignored_words.add(\"flipkart\")\n",
    "ignored_words.add(\"also\")\n",
    "ignored_words.add(\"like\")\n",
    "ignored_words.add(\"item\")\n",
    "ignored_words.add(\"one\")\n",
    "ignored_words.add(\"much\")\n",
    "ignored_words.add(\"even\")\n",
    "ignored_words.add(\"product\")"
   ]
  },
  {
   "cell_type": "code",
   "execution_count": 29,
   "id": "8095db1f",
   "metadata": {
    "execution": {
     "iopub.execute_input": "2023-07-07T05:08:35.191789Z",
     "iopub.status.busy": "2023-07-07T05:08:35.191068Z",
     "iopub.status.idle": "2023-07-07T05:08:35.965756Z",
     "shell.execute_reply": "2023-07-07T05:08:35.964808Z"
    },
    "papermill": {
     "duration": 0.793178,
     "end_time": "2023-07-07T05:08:35.967983",
     "exception": false,
     "start_time": "2023-07-07T05:08:35.174805",
     "status": "completed"
    },
    "tags": []
   },
   "outputs": [
    {
     "data": {
      "image/png": "[encoded data removed]",
      "text/plain": [
       "<Figure size 640x480 with 1 Axes>"
      ]
     },
     "metadata": {},
     "output_type": "display_data"
    }
   ],
   "source": [
    "text3 = ' '.join(df['Summary'])\n",
    "wordcloud2 = WordCloud().generate(text3)\n",
    "# Generate plot\n",
    "plt.imshow(wordcloud2)\n",
    "plt.axis(\"off\")\n",
    "plt.savefig('WordCloud.pdf', format='pdf', bbox_inches='tight')\n",
    "plt.show()"
   ]
  },
  {
   "cell_type": "markdown",
   "id": "906aaa90",
   "metadata": {
    "papermill": {
     "duration": 0.024145,
     "end_time": "2023-07-07T05:08:36.015202",
     "exception": false,
     "start_time": "2023-07-07T05:08:35.991057",
     "status": "completed"
    },
    "tags": []
   },
   "source": [
    "## ENCODER CODE"
   ]
  },
  {
   "cell_type": "code",
   "execution_count": 30,
   "id": "f12f5d79",
   "metadata": {
    "execution": {
     "iopub.execute_input": "2023-07-07T05:08:36.051457Z",
     "iopub.status.busy": "2023-07-07T05:08:36.050903Z",
     "iopub.status.idle": "2023-07-07T05:09:00.614125Z",
     "shell.execute_reply": "2023-07-07T05:09:00.612148Z"
    },
    "papermill": {
     "duration": 24.584158,
     "end_time": "2023-07-07T05:09:00.617172",
     "exception": false,
     "start_time": "2023-07-07T05:08:36.033014",
     "status": "completed"
    },
    "tags": []
   },
   "outputs": [
    {
     "name": "stdout",
     "output_type": "stream",
     "text": [
      "Collecting evaluate\r\n",
      "  Downloading evaluate-0.4.0-py3-none-any.whl (81 kB)\r\n",
      "\u001b[2K     \u001b[90m━━━━━━━━━━━━━━━━━━━━━━━━━━━━━━━━━━━━━━━━\u001b[0m \u001b[32m81.4/81.4 kB\u001b[0m \u001b[31m4.8 MB/s\u001b[0m eta \u001b[36m0:00:00\u001b[0m\r\n",
      "\u001b[?25hRequirement already satisfied: xxhash in /opt/conda/lib/python3.7/site-packages (from evaluate) (3.2.0)\r\n",
      "Requirement already satisfied: responses<0.19 in /opt/conda/lib/python3.7/site-packages (from evaluate) (0.18.0)\r\n",
      "Requirement already satisfied: fsspec[http]>=2021.05.0 in /opt/conda/lib/python3.7/site-packages (from evaluate) (2023.1.0)\r\n",
      "Requirement already satisfied: packaging in /opt/conda/lib/python3.7/site-packages (from evaluate) (23.0)\r\n",
      "Requirement already satisfied: importlib-metadata in /opt/conda/lib/python3.7/site-packages (from evaluate) (4.11.4)\r\n",
      "Requirement already satisfied: dill in /opt/conda/lib/python3.7/site-packages (from evaluate) (0.3.6)\r\n",
      "Requirement already satisfied: tqdm>=4.62.1 in /opt/conda/lib/python3.7/site-packages (from evaluate) (4.64.1)\r\n",
      "Requirement already satisfied: multiprocess in /opt/conda/lib/python3.7/site-packages (from evaluate) (0.70.14)\r\n",
      "Requirement already satisfied: requests>=2.19.0 in /opt/conda/lib/python3.7/site-packages (from evaluate) (2.28.2)\r\n",
      "Requirement already satisfied: numpy>=1.17 in /opt/conda/lib/python3.7/site-packages (from evaluate) (1.21.6)\r\n",
      "Requirement already satisfied: datasets>=2.0.0 in /opt/conda/lib/python3.7/site-packages (from evaluate) (2.1.0)\r\n",
      "Requirement already satisfied: pandas in /opt/conda/lib/python3.7/site-packages (from evaluate) (1.3.5)\r\n",
      "Requirement already satisfied: huggingface-hub>=0.7.0 in /opt/conda/lib/python3.7/site-packages (from evaluate) (0.12.1)\r\n",
      "Requirement already satisfied: aiohttp in /opt/conda/lib/python3.7/site-packages (from datasets>=2.0.0->evaluate) (3.8.3)\r\n",
      "Requirement already satisfied: pyarrow>=5.0.0 in /opt/conda/lib/python3.7/site-packages (from datasets>=2.0.0->evaluate) (6.0.1)\r\n",
      "Requirement already satisfied: typing-extensions>=3.7.4.3 in /opt/conda/lib/python3.7/site-packages (from huggingface-hub>=0.7.0->evaluate) (4.4.0)\r\n",
      "Requirement already satisfied: filelock in /opt/conda/lib/python3.7/site-packages (from huggingface-hub>=0.7.0->evaluate) (3.9.0)\r\n",
      "Requirement already satisfied: pyyaml>=5.1 in /opt/conda/lib/python3.7/site-packages (from huggingface-hub>=0.7.0->evaluate) (6.0)\r\n",
      "Requirement already satisfied: idna<4,>=2.5 in /opt/conda/lib/python3.7/site-packages (from requests>=2.19.0->evaluate) (3.4)\r\n",
      "Requirement already satisfied: certifi>=2017.4.17 in /opt/conda/lib/python3.7/site-packages (from requests>=2.19.0->evaluate) (2022.12.7)\r\n",
      "Requirement already satisfied: charset-normalizer<4,>=2 in /opt/conda/lib/python3.7/site-packages (from requests>=2.19.0->evaluate) (2.1.1)\r\n",
      "Requirement already satisfied: urllib3<1.27,>=1.21.1 in /opt/conda/lib/python3.7/site-packages (from requests>=2.19.0->evaluate) (1.26.14)\r\n",
      "Requirement already satisfied: zipp>=0.5 in /opt/conda/lib/python3.7/site-packages (from importlib-metadata->evaluate) (3.11.0)\r\n",
      "Requirement already satisfied: pytz>=2017.3 in /opt/conda/lib/python3.7/site-packages (from pandas->evaluate) (2022.7.1)\r\n",
      "Requirement already satisfied: python-dateutil>=2.7.3 in /opt/conda/lib/python3.7/site-packages (from pandas->evaluate) (2.8.2)\r\n",
      "Requirement already satisfied: aiosignal>=1.1.2 in /opt/conda/lib/python3.7/site-packages (from aiohttp->datasets>=2.0.0->evaluate) (1.3.1)\r\n",
      "Requirement already satisfied: frozenlist>=1.1.1 in /opt/conda/lib/python3.7/site-packages (from aiohttp->datasets>=2.0.0->evaluate) (1.3.3)\r\n",
      "Requirement already satisfied: attrs>=17.3.0 in /opt/conda/lib/python3.7/site-packages (from aiohttp->datasets>=2.0.0->evaluate) (22.2.0)\r\n",
      "Requirement already satisfied: asynctest==0.13.0 in /opt/conda/lib/python3.7/site-packages (from aiohttp->datasets>=2.0.0->evaluate) (0.13.0)\r\n",
      "Requirement already satisfied: yarl<2.0,>=1.0 in /opt/conda/lib/python3.7/site-packages (from aiohttp->datasets>=2.0.0->evaluate) (1.8.2)\r\n",
      "Requirement already satisfied: async-timeout<5.0,>=4.0.0a3 in /opt/conda/lib/python3.7/site-packages (from aiohttp->datasets>=2.0.0->evaluate) (4.0.2)\r\n",
      "Requirement already satisfied: multidict<7.0,>=4.5 in /opt/conda/lib/python3.7/site-packages (from aiohttp->datasets>=2.0.0->evaluate) (6.0.4)\r\n",
      "Requirement already satisfied: six>=1.5 in /opt/conda/lib/python3.7/site-packages (from python-dateutil>=2.7.3->pandas->evaluate) (1.16.0)\r\n",
      "Installing collected packages: evaluate\r\n",
      "Successfully installed evaluate-0.4.0\r\n",
      "\u001b[33mWARNING: Running pip as the 'root' user can result in broken permissions and conflicting behaviour with the system package manager. It is recommended to use a virtual environment instead: https://pip.pypa.io/warnings/venv\u001b[0m\u001b[33m\r\n",
      "\u001b[0m"
     ]
    }
   ],
   "source": [
    "import torch\n",
    "import pandas as pd\n",
    "from sklearn.model_selection import train_test_split\n",
    "from transformers import AutoTokenizer, AutoModel\n",
    "from torch.utils.data import TensorDataset, DataLoader\n",
    "from datasets import Dataset\n",
    "from transformers import AutoTokenizer\n",
    "from transformers import AutoModelForSequenceClassification\n",
    "from transformers import TrainingArguments\n",
    "import numpy as np\n",
    "!pip install evaluate\n",
    "import evaluate\n",
    "from transformers import TrainingArguments, Trainer\n",
    "#Loading libraries\n"
   ]
  },
  {
   "cell_type": "code",
   "execution_count": 31,
   "id": "553f5b8a",
   "metadata": {
    "execution": {
     "iopub.execute_input": "2023-07-07T05:09:00.656429Z",
     "iopub.status.busy": "2023-07-07T05:09:00.655552Z",
     "iopub.status.idle": "2023-07-07T05:09:00.669025Z",
     "shell.execute_reply": "2023-07-07T05:09:00.667987Z"
    },
    "papermill": {
     "duration": 0.035657,
     "end_time": "2023-07-07T05:09:00.670971",
     "exception": false,
     "start_time": "2023-07-07T05:09:00.635314",
     "status": "completed"
    },
    "tags": []
   },
   "outputs": [
    {
     "data": {
      "text/html": [
       "<div>\n",
       "<style scoped>\n",
       "    .dataframe tbody tr th:only-of-type {\n",
       "        vertical-align: middle;\n",
       "    }\n",
       "\n",
       "    .dataframe tbody tr th {\n",
       "        vertical-align: top;\n",
       "    }\n",
       "\n",
       "    .dataframe thead th {\n",
       "        text-align: right;\n",
       "    }\n",
       "</style>\n",
       "<table border=\"1\" class=\"dataframe\">\n",
       "  <thead>\n",
       "    <tr style=\"text-align: right;\">\n",
       "      <th></th>\n",
       "      <th>Rate</th>\n",
       "      <th>Summary</th>\n",
       "    </tr>\n",
       "  </thead>\n",
       "  <tbody>\n",
       "    <tr>\n",
       "      <th>3</th>\n",
       "      <td>1</td>\n",
       "      <td>very bad product its a only a fan</td>\n",
       "    </tr>\n",
       "    <tr>\n",
       "      <th>8</th>\n",
       "      <td>1</td>\n",
       "      <td>very bad cooler</td>\n",
       "    </tr>\n",
       "    <tr>\n",
       "      <th>48</th>\n",
       "      <td>1</td>\n",
       "      <td>small wire and moter capacity is very low fan ...</td>\n",
       "    </tr>\n",
       "    <tr>\n",
       "      <th>59</th>\n",
       "      <td>1</td>\n",
       "      <td>the product doesnt cool as rated by other cust...</td>\n",
       "    </tr>\n",
       "    <tr>\n",
       "      <th>67</th>\n",
       "      <td>1</td>\n",
       "      <td>cooler not provide cool air because 1year expe...</td>\n",
       "    </tr>\n",
       "  </tbody>\n",
       "</table>\n",
       "</div>"
      ],
      "text/plain": [
       "   Rate                                            Summary\n",
       "3     1                  very bad product its a only a fan\n",
       "8     1                                    very bad cooler\n",
       "48    1  small wire and moter capacity is very low fan ...\n",
       "59    1  the product doesnt cool as rated by other cust...\n",
       "67    1  cooler not provide cool air because 1year expe..."
      ]
     },
     "execution_count": 31,
     "metadata": {},
     "output_type": "execute_result"
    }
   ],
   "source": [
    "df.head()"
   ]
  },
  {
   "cell_type": "code",
   "execution_count": 32,
   "id": "767ef29e",
   "metadata": {
    "execution": {
     "iopub.execute_input": "2023-07-07T05:09:00.709694Z",
     "iopub.status.busy": "2023-07-07T05:09:00.709289Z",
     "iopub.status.idle": "2023-07-07T05:09:00.722657Z",
     "shell.execute_reply": "2023-07-07T05:09:00.721273Z"
    },
    "papermill": {
     "duration": 0.035354,
     "end_time": "2023-07-07T05:09:00.724606",
     "exception": false,
     "start_time": "2023-07-07T05:09:00.689252",
     "status": "completed"
    },
    "tags": []
   },
   "outputs": [],
   "source": [
    "import numpy as np\n",
    "import pandas as pd\n",
    "import matplotlib.pyplot as plt\n",
    "%matplotlib inline\n",
    "import seaborn as sns\n",
    "plt.style.use('ggplot')\n",
    "\n",
    "from scipy.stats import norm\n",
    "from sklearn.preprocessing import StandardScaler\n",
    "from scipy import stats\n",
    "\n",
    "df = df.rename(columns={'Summary': 'text', 'Rate': 'label'})\n",
    "\n",
    "# Split the dataset into train and validation sets\n",
    "train, validation = train_test_split(df, test_size=0.2, random_state=42)"
   ]
  },
  {
   "cell_type": "code",
   "execution_count": 33,
   "id": "e6995e2d",
   "metadata": {
    "execution": {
     "iopub.execute_input": "2023-07-07T05:09:00.763703Z",
     "iopub.status.busy": "2023-07-07T05:09:00.763294Z",
     "iopub.status.idle": "2023-07-07T05:09:00.771628Z",
     "shell.execute_reply": "2023-07-07T05:09:00.769909Z"
    },
    "papermill": {
     "duration": 0.030402,
     "end_time": "2023-07-07T05:09:00.773837",
     "exception": false,
     "start_time": "2023-07-07T05:09:00.743435",
     "status": "completed"
    },
    "tags": []
   },
   "outputs": [
    {
     "data": {
      "text/plain": [
       "array(['1', '2', '3', '4', '5'], dtype=object)"
      ]
     },
     "execution_count": 33,
     "metadata": {},
     "output_type": "execute_result"
    }
   ],
   "source": [
    "df[\"label\"].unique()"
   ]
  },
  {
   "cell_type": "code",
   "execution_count": 34,
   "id": "8d3fd478",
   "metadata": {
    "execution": {
     "iopub.execute_input": "2023-07-07T05:09:00.811999Z",
     "iopub.status.busy": "2023-07-07T05:09:00.811594Z",
     "iopub.status.idle": "2023-07-07T05:09:00.896103Z",
     "shell.execute_reply": "2023-07-07T05:09:00.894903Z"
    },
    "papermill": {
     "duration": 0.106194,
     "end_time": "2023-07-07T05:09:00.898101",
     "exception": false,
     "start_time": "2023-07-07T05:09:00.791907",
     "status": "completed"
    },
    "tags": []
   },
   "outputs": [
    {
     "data": {
      "text/html": [
       "<style type=\"text/css\">\n",
       "#T_b07e9_row0_col1 {\n",
       "  background-color: #00ff80;\n",
       "  color: #000000;\n",
       "}\n",
       "#T_b07e9_row1_col1 {\n",
       "  background-color: #0053d6;\n",
       "  color: #f1f1f1;\n",
       "}\n",
       "#T_b07e9_row2_col1 {\n",
       "  background-color: #0021ee;\n",
       "  color: #f1f1f1;\n",
       "}\n",
       "#T_b07e9_row3_col1 {\n",
       "  background-color: #0017f4;\n",
       "  color: #f1f1f1;\n",
       "}\n",
       "#T_b07e9_row4_col1 {\n",
       "  background-color: #0000ff;\n",
       "  color: #f1f1f1;\n",
       "}\n",
       "</style>\n",
       "<table id=\"T_b07e9_\">\n",
       "  <thead>\n",
       "    <tr>\n",
       "      <th class=\"blank level0\" >&nbsp;</th>\n",
       "      <th class=\"col_heading level0 col0\" >label</th>\n",
       "      <th class=\"col_heading level0 col1\" >text</th>\n",
       "    </tr>\n",
       "  </thead>\n",
       "  <tbody>\n",
       "    <tr>\n",
       "      <th id=\"T_b07e9_level0_row0\" class=\"row_heading level0 row0\" >4</th>\n",
       "      <td id=\"T_b07e9_row0_col0\" class=\"data row0 col0\" >5</td>\n",
       "      <td id=\"T_b07e9_row0_col1\" class=\"data row0 col1\" >1086</td>\n",
       "    </tr>\n",
       "    <tr>\n",
       "      <th id=\"T_b07e9_level0_row1\" class=\"row_heading level0 row1\" >3</th>\n",
       "      <td id=\"T_b07e9_row1_col0\" class=\"data row1 col0\" >4</td>\n",
       "      <td id=\"T_b07e9_row1_col1\" class=\"data row1 col1\" >396</td>\n",
       "    </tr>\n",
       "    <tr>\n",
       "      <th id=\"T_b07e9_level0_row2\" class=\"row_heading level0 row2\" >0</th>\n",
       "      <td id=\"T_b07e9_row2_col0\" class=\"data row2 col0\" >1</td>\n",
       "      <td id=\"T_b07e9_row2_col1\" class=\"data row2 col1\" >196</td>\n",
       "    </tr>\n",
       "    <tr>\n",
       "      <th id=\"T_b07e9_level0_row3\" class=\"row_heading level0 row3\" >2</th>\n",
       "      <td id=\"T_b07e9_row3_col0\" class=\"data row3 col0\" >3</td>\n",
       "      <td id=\"T_b07e9_row3_col1\" class=\"data row3 col1\" >156</td>\n",
       "    </tr>\n",
       "    <tr>\n",
       "      <th id=\"T_b07e9_level0_row4\" class=\"row_heading level0 row4\" >1</th>\n",
       "      <td id=\"T_b07e9_row4_col0\" class=\"data row4 col0\" >2</td>\n",
       "      <td id=\"T_b07e9_row4_col1\" class=\"data row4 col1\" >62</td>\n",
       "    </tr>\n",
       "  </tbody>\n",
       "</table>\n"
      ],
      "text/plain": [
       "<pandas.io.formats.style.Styler at 0x7ada0267c790>"
      ]
     },
     "execution_count": 34,
     "metadata": {},
     "output_type": "execute_result"
    }
   ],
   "source": [
    "class_df = df.groupby('label').count()['text'].reset_index().sort_values(by='text',ascending=False)\n",
    "class_df.style.background_gradient(cmap='winter')"
   ]
  },
  {
   "cell_type": "code",
   "execution_count": 35,
   "id": "6b3b6d11",
   "metadata": {
    "execution": {
     "iopub.execute_input": "2023-07-07T05:09:00.935872Z",
     "iopub.status.busy": "2023-07-07T05:09:00.935533Z",
     "iopub.status.idle": "2023-07-07T05:09:01.169926Z",
     "shell.execute_reply": "2023-07-07T05:09:01.169076Z"
    },
    "papermill": {
     "duration": 0.255941,
     "end_time": "2023-07-07T05:09:01.172033",
     "exception": false,
     "start_time": "2023-07-07T05:09:00.916092",
     "status": "completed"
    },
    "tags": []
   },
   "outputs": [
    {
     "data": {
      "image/png": "[encoded data removed]",
      "text/plain": [
       "<Figure size 640x480 with 1 Axes>"
      ]
     },
     "metadata": {},
     "output_type": "display_data"
    }
   ],
   "source": [
    "percent_class=class_df.text\n",
    "labels= class_df.label\n",
    "\n",
    "my_pie,_,_ = plt.pie(percent_class,radius = 1.2,labels=labels,autopct=\"%.1f%%\")\n",
    "\n",
    "plt.setp(my_pie, width=0.6, edgecolor='white') \n",
    "plt.savefig('Label Distribution.pdf', format='pdf', bbox_inches='tight')\n",
    "plt.show()"
   ]
  },
  {
   "cell_type": "code",
   "execution_count": 36,
   "id": "4e0efa4e",
   "metadata": {
    "execution": {
     "iopub.execute_input": "2023-07-07T05:09:01.224610Z",
     "iopub.status.busy": "2023-07-07T05:09:01.223343Z",
     "iopub.status.idle": "2023-07-07T05:09:01.268690Z",
     "shell.execute_reply": "2023-07-07T05:09:01.267254Z"
    },
    "papermill": {
     "duration": 0.073888,
     "end_time": "2023-07-07T05:09:01.271220",
     "exception": false,
     "start_time": "2023-07-07T05:09:01.197332",
     "status": "completed"
    },
    "tags": []
   },
   "outputs": [],
   "source": [
    "train_dataset = Dataset.from_pandas(train)\n",
    "test_dataset = Dataset.from_pandas(validation)"
   ]
  },
  {
   "cell_type": "markdown",
   "id": "478c0437",
   "metadata": {
    "papermill": {
     "duration": 0.018113,
     "end_time": "2023-07-07T05:09:01.307712",
     "exception": false,
     "start_time": "2023-07-07T05:09:01.289599",
     "status": "completed"
    },
    "tags": []
   },
   "source": [
    "# BERT"
   ]
  },
  {
   "cell_type": "code",
   "execution_count": 37,
   "id": "7d52ee17",
   "metadata": {
    "execution": {
     "iopub.execute_input": "2023-07-07T05:09:01.346248Z",
     "iopub.status.busy": "2023-07-07T05:09:01.345082Z",
     "iopub.status.idle": "2023-07-07T05:09:01.349944Z",
     "shell.execute_reply": "2023-07-07T05:09:01.349284Z"
    },
    "papermill": {
     "duration": 0.025892,
     "end_time": "2023-07-07T05:09:01.351756",
     "exception": false,
     "start_time": "2023-07-07T05:09:01.325864",
     "status": "completed"
    },
    "tags": []
   },
   "outputs": [],
   "source": [
    "import pandas as pd\n",
    "import csv\n",
    "import re \n",
    "import string\n",
    "from sklearn.model_selection import train_test_split\n",
    "from sklearn.feature_extraction.text import CountVectorizer\n",
    "from sklearn.feature_extraction.text import TfidfVectorizer"
   ]
  },
  {
   "cell_type": "code",
   "execution_count": 38,
   "id": "78af6287",
   "metadata": {
    "execution": {
     "iopub.execute_input": "2023-07-07T05:09:01.390123Z",
     "iopub.status.busy": "2023-07-07T05:09:01.389315Z",
     "iopub.status.idle": "2023-07-07T05:09:01.907458Z",
     "shell.execute_reply": "2023-07-07T05:09:01.906485Z"
    },
    "papermill": {
     "duration": 0.540269,
     "end_time": "2023-07-07T05:09:01.910081",
     "exception": false,
     "start_time": "2023-07-07T05:09:01.369812",
     "status": "completed"
    },
    "tags": []
   },
   "outputs": [],
   "source": [
    "!wget --quiet https://raw.githubusercontent.com/tensorflow/models/master/official/nlp/bert/tokenization.py"
   ]
  },
  {
   "cell_type": "code",
   "execution_count": 39,
   "id": "2baa1b1e",
   "metadata": {
    "execution": {
     "iopub.execute_input": "2023-07-07T05:09:01.950540Z",
     "iopub.status.busy": "2023-07-07T05:09:01.950132Z",
     "iopub.status.idle": "2023-07-07T05:09:11.224242Z",
     "shell.execute_reply": "2023-07-07T05:09:11.223061Z"
    },
    "papermill": {
     "duration": 9.297315,
     "end_time": "2023-07-07T05:09:11.226886",
     "exception": false,
     "start_time": "2023-07-07T05:09:01.929571",
     "status": "completed"
    },
    "tags": []
   },
   "outputs": [
    {
     "name": "stdout",
     "output_type": "stream",
     "text": [
      "Collecting tokenization\r\n",
      "  Downloading tokenization-1.0.7-py3-none-any.whl (10 kB)\r\n",
      "Requirement already satisfied: regex in /opt/conda/lib/python3.7/site-packages (from tokenization) (2021.11.10)\r\n",
      "Installing collected packages: tokenization\r\n",
      "Successfully installed tokenization-1.0.7\r\n",
      "\u001b[33mWARNING: Running pip as the 'root' user can result in broken permissions and conflicting behaviour with the system package manager. It is recommended to use a virtual environment instead: https://pip.pypa.io/warnings/venv\u001b[0m\u001b[33m\r\n",
      "\u001b[0m"
     ]
    }
   ],
   "source": [
    "!pip install tokenization"
   ]
  },
  {
   "cell_type": "code",
   "execution_count": 40,
   "id": "600840fa",
   "metadata": {
    "execution": {
     "iopub.execute_input": "2023-07-07T05:09:11.267892Z",
     "iopub.status.busy": "2023-07-07T05:09:11.267509Z",
     "iopub.status.idle": "2023-07-07T05:09:11.578653Z",
     "shell.execute_reply": "2023-07-07T05:09:11.577223Z"
    },
    "papermill": {
     "duration": 0.334377,
     "end_time": "2023-07-07T05:09:11.580960",
     "exception": false,
     "start_time": "2023-07-07T05:09:11.246583",
     "status": "completed"
    },
    "tags": []
   },
   "outputs": [],
   "source": [
    "import tokenization\n",
    "import tensorflow as tf\n",
    "import tensorflow_hub as hub\n",
    "from tensorflow.keras.utils import to_categorical\n",
    "from sklearn import preprocessing\n",
    "from sklearn.model_selection import train_test_split"
   ]
  },
  {
   "cell_type": "code",
   "execution_count": 41,
   "id": "e70c2dab",
   "metadata": {
    "execution": {
     "iopub.execute_input": "2023-07-07T05:09:11.622432Z",
     "iopub.status.busy": "2023-07-07T05:09:11.622026Z",
     "iopub.status.idle": "2023-07-07T05:09:11.633769Z",
     "shell.execute_reply": "2023-07-07T05:09:11.632692Z"
    },
    "papermill": {
     "duration": 0.034334,
     "end_time": "2023-07-07T05:09:11.635716",
     "exception": false,
     "start_time": "2023-07-07T05:09:11.601382",
     "status": "completed"
    },
    "tags": []
   },
   "outputs": [
    {
     "data": {
      "text/html": [
       "<div>\n",
       "<style scoped>\n",
       "    .dataframe tbody tr th:only-of-type {\n",
       "        vertical-align: middle;\n",
       "    }\n",
       "\n",
       "    .dataframe tbody tr th {\n",
       "        vertical-align: top;\n",
       "    }\n",
       "\n",
       "    .dataframe thead th {\n",
       "        text-align: right;\n",
       "    }\n",
       "</style>\n",
       "<table border=\"1\" class=\"dataframe\">\n",
       "  <thead>\n",
       "    <tr style=\"text-align: right;\">\n",
       "      <th></th>\n",
       "      <th>label</th>\n",
       "      <th>text</th>\n",
       "    </tr>\n",
       "  </thead>\n",
       "  <tbody>\n",
       "    <tr>\n",
       "      <th>3</th>\n",
       "      <td>1</td>\n",
       "      <td>very bad product its a only a fan</td>\n",
       "    </tr>\n",
       "    <tr>\n",
       "      <th>8</th>\n",
       "      <td>1</td>\n",
       "      <td>very bad cooler</td>\n",
       "    </tr>\n",
       "    <tr>\n",
       "      <th>48</th>\n",
       "      <td>1</td>\n",
       "      <td>small wire and moter capacity is very low fan ...</td>\n",
       "    </tr>\n",
       "    <tr>\n",
       "      <th>59</th>\n",
       "      <td>1</td>\n",
       "      <td>the product doesnt cool as rated by other cust...</td>\n",
       "    </tr>\n",
       "    <tr>\n",
       "      <th>67</th>\n",
       "      <td>1</td>\n",
       "      <td>cooler not provide cool air because 1year expe...</td>\n",
       "    </tr>\n",
       "  </tbody>\n",
       "</table>\n",
       "</div>"
      ],
      "text/plain": [
       "   label                                               text\n",
       "3      1                  very bad product its a only a fan\n",
       "8      1                                    very bad cooler\n",
       "48     1  small wire and moter capacity is very low fan ...\n",
       "59     1  the product doesnt cool as rated by other cust...\n",
       "67     1  cooler not provide cool air because 1year expe..."
      ]
     },
     "execution_count": 41,
     "metadata": {},
     "output_type": "execute_result"
    }
   ],
   "source": [
    "df.head()"
   ]
  },
  {
   "cell_type": "code",
   "execution_count": 42,
   "id": "efa8e2e0",
   "metadata": {
    "execution": {
     "iopub.execute_input": "2023-07-07T05:09:11.676881Z",
     "iopub.status.busy": "2023-07-07T05:09:11.676511Z",
     "iopub.status.idle": "2023-07-07T05:09:11.682499Z",
     "shell.execute_reply": "2023-07-07T05:09:11.681834Z"
    },
    "papermill": {
     "duration": 0.02874,
     "end_time": "2023-07-07T05:09:11.684363",
     "exception": false,
     "start_time": "2023-07-07T05:09:11.655623",
     "status": "completed"
    },
    "tags": []
   },
   "outputs": [],
   "source": [
    "from sklearn.model_selection import train_test_split\n",
    "\n",
    "# splitting the training and testing part from the data\n",
    "X_temp, X_test, y_temp, y_test = train_test_split(df['text'], df['label'], test_size=0.2, random_state=0)"
   ]
  },
  {
   "cell_type": "code",
   "execution_count": 43,
   "id": "a53ac989",
   "metadata": {
    "execution": {
     "iopub.execute_input": "2023-07-07T05:09:11.724304Z",
     "iopub.status.busy": "2023-07-07T05:09:11.723680Z",
     "iopub.status.idle": "2023-07-07T05:09:11.729514Z",
     "shell.execute_reply": "2023-07-07T05:09:11.728866Z"
    },
    "papermill": {
     "duration": 0.027718,
     "end_time": "2023-07-07T05:09:11.731217",
     "exception": false,
     "start_time": "2023-07-07T05:09:11.703499",
     "status": "completed"
    },
    "tags": []
   },
   "outputs": [
    {
     "data": {
      "text/plain": [
       "((1516,), (1516,), (380,), (380,))"
      ]
     },
     "execution_count": 43,
     "metadata": {},
     "output_type": "execute_result"
    }
   ],
   "source": [
    "train_X = X_temp\n",
    "train_y = y_temp\n",
    "test_x = X_test\n",
    "test_y = y_test\n",
    "\n",
    "train_X.shape, train_y.shape, test_x.shape , test_y.shape"
   ]
  },
  {
   "cell_type": "code",
   "execution_count": 44,
   "id": "c362f043",
   "metadata": {
    "execution": {
     "iopub.execute_input": "2023-07-07T05:09:11.772087Z",
     "iopub.status.busy": "2023-07-07T05:09:11.771446Z",
     "iopub.status.idle": "2023-07-07T05:09:11.780867Z",
     "shell.execute_reply": "2023-07-07T05:09:11.779686Z"
    },
    "papermill": {
     "duration": 0.032124,
     "end_time": "2023-07-07T05:09:11.782622",
     "exception": false,
     "start_time": "2023-07-07T05:09:11.750498",
     "status": "completed"
    },
    "tags": []
   },
   "outputs": [
    {
     "name": "stdout",
     "output_type": "stream",
     "text": [
      "262     1\n",
      "1613    4\n",
      "215     4\n",
      "871     4\n",
      "750     5\n",
      "Name: label, dtype: object\n"
     ]
    }
   ],
   "source": [
    "label = preprocessing.LabelEncoder()\n",
    "y = label.fit_transform(train_X)\n",
    "y = to_categorical(train_y)\n",
    "print(train_y[:5])"
   ]
  },
  {
   "cell_type": "code",
   "execution_count": 45,
   "id": "c271274d",
   "metadata": {
    "execution": {
     "iopub.execute_input": "2023-07-07T05:09:11.823343Z",
     "iopub.status.busy": "2023-07-07T05:09:11.822683Z",
     "iopub.status.idle": "2023-07-07T05:09:26.507718Z",
     "shell.execute_reply": "2023-07-07T05:09:26.506200Z"
    },
    "papermill": {
     "duration": 14.708609,
     "end_time": "2023-07-07T05:09:26.510350",
     "exception": false,
     "start_time": "2023-07-07T05:09:11.801741",
     "status": "completed"
    },
    "tags": []
   },
   "outputs": [],
   "source": [
    "m_url = 'https://tfhub.dev/tensorflow/bert_en_uncased_L-12_H-768_A-12/2'\n",
    "bert_layer = hub.KerasLayer(m_url, trainable=True)"
   ]
  },
  {
   "cell_type": "markdown",
   "id": "933d6f39",
   "metadata": {
    "papermill": {
     "duration": 0.020092,
     "end_time": "2023-07-07T05:09:26.550146",
     "exception": false,
     "start_time": "2023-07-07T05:09:26.530054",
     "status": "completed"
    },
    "tags": []
   },
   "source": [
    "### ENcoding Text"
   ]
  },
  {
   "cell_type": "code",
   "execution_count": 46,
   "id": "39b657b5",
   "metadata": {
    "execution": {
     "iopub.execute_input": "2023-07-07T05:09:26.589717Z",
     "iopub.status.busy": "2023-07-07T05:09:26.589300Z",
     "iopub.status.idle": "2023-07-07T05:10:11.395050Z",
     "shell.execute_reply": "2023-07-07T05:10:11.393526Z"
    },
    "papermill": {
     "duration": 44.8282,
     "end_time": "2023-07-07T05:10:11.397194",
     "exception": false,
     "start_time": "2023-07-07T05:09:26.568994",
     "status": "completed"
    },
    "tags": []
   },
   "outputs": [
    {
     "name": "stdout",
     "output_type": "stream",
     "text": [
      "Collecting tensorflow==2.0\r\n",
      "  Downloading tensorflow-2.0.0-cp37-cp37m-manylinux2010_x86_64.whl (86.3 MB)\r\n",
      "\u001b[2K     \u001b[90m━━━━━━━━━━━━━━━━━━━━━━━━━━━━━━━━━━━━━━━━\u001b[0m \u001b[32m86.3/86.3 MB\u001b[0m \u001b[31m16.3 MB/s\u001b[0m eta \u001b[36m0:00:00\u001b[0m\r\n",
      "\u001b[?25hRequirement already satisfied: protobuf>=3.6.1 in /opt/conda/lib/python3.7/site-packages (from tensorflow==2.0) (3.20.3)\r\n",
      "Collecting keras-applications>=1.0.8\r\n",
      "  Downloading Keras_Applications-1.0.8-py3-none-any.whl (50 kB)\r\n",
      "\u001b[2K     \u001b[90m━━━━━━━━━━━━━━━━━━━━━━━━━━━━━━━━━━━━━━━━\u001b[0m \u001b[32m50.7/50.7 kB\u001b[0m \u001b[31m4.3 MB/s\u001b[0m eta \u001b[36m0:00:00\u001b[0m\r\n",
      "\u001b[?25hCollecting gast==0.2.2\r\n",
      "  Downloading gast-0.2.2.tar.gz (10 kB)\r\n",
      "  Preparing metadata (setup.py) ... \u001b[?25l-\b \bdone\r\n",
      "\u001b[?25hRequirement already satisfied: google-pasta>=0.1.6 in /opt/conda/lib/python3.7/site-packages (from tensorflow==2.0) (0.2.0)\r\n",
      "Requirement already satisfied: grpcio>=1.8.6 in /opt/conda/lib/python3.7/site-packages (from tensorflow==2.0) (1.51.1)\r\n",
      "Requirement already satisfied: absl-py>=0.7.0 in /opt/conda/lib/python3.7/site-packages (from tensorflow==2.0) (1.4.0)\r\n",
      "Requirement already satisfied: opt-einsum>=2.3.2 in /opt/conda/lib/python3.7/site-packages (from tensorflow==2.0) (3.3.0)\r\n",
      "Requirement already satisfied: six>=1.10.0 in /opt/conda/lib/python3.7/site-packages (from tensorflow==2.0) (1.16.0)\r\n",
      "Requirement already satisfied: wheel>=0.26 in /opt/conda/lib/python3.7/site-packages (from tensorflow==2.0) (0.38.4)\r\n",
      "Collecting keras-preprocessing>=1.0.5\r\n",
      "  Downloading Keras_Preprocessing-1.1.2-py2.py3-none-any.whl (42 kB)\r\n",
      "\u001b[2K     \u001b[90m━━━━━━━━━━━━━━━━━━━━━━━━━━━━━━━━━━━━━━━\u001b[0m \u001b[32m42.6/42.6 kB\u001b[0m \u001b[31m325.6 kB/s\u001b[0m eta \u001b[36m0:00:00\u001b[0m\r\n",
      "\u001b[?25hRequirement already satisfied: termcolor>=1.1.0 in /opt/conda/lib/python3.7/site-packages (from tensorflow==2.0) (2.2.0)\r\n",
      "Collecting tensorboard<2.1.0,>=2.0.0\r\n",
      "  Downloading tensorboard-2.0.2-py3-none-any.whl (3.8 MB)\r\n",
      "\u001b[2K     \u001b[90m━━━━━━━━━━━━━━━━━━━━━━━━━━━━━━━━━━━━━━━━\u001b[0m \u001b[32m3.8/3.8 MB\u001b[0m \u001b[31m11.4 MB/s\u001b[0m eta \u001b[36m0:00:00\u001b[0m\r\n",
      "\u001b[?25hRequirement already satisfied: wrapt>=1.11.1 in /opt/conda/lib/python3.7/site-packages (from tensorflow==2.0) (1.14.1)\r\n",
      "Requirement already satisfied: numpy<2.0,>=1.16.0 in /opt/conda/lib/python3.7/site-packages (from tensorflow==2.0) (1.21.6)\r\n",
      "Collecting astor>=0.6.0\r\n",
      "  Downloading astor-0.8.1-py2.py3-none-any.whl (27 kB)\r\n",
      "Collecting tensorflow-estimator<2.1.0,>=2.0.0\r\n",
      "  Downloading tensorflow_estimator-2.0.1-py2.py3-none-any.whl (449 kB)\r\n",
      "\u001b[2K     \u001b[90m━━━━━━━━━━━━━━━━━━━━━━━━━━━━━━━━━━━━━━━\u001b[0m \u001b[32m449.9/449.9 kB\u001b[0m \u001b[31m4.4 MB/s\u001b[0m eta \u001b[36m0:00:00\u001b[0m\r\n",
      "\u001b[?25hRequirement already satisfied: h5py in /opt/conda/lib/python3.7/site-packages (from keras-applications>=1.0.8->tensorflow==2.0) (3.8.0)\r\n",
      "Requirement already satisfied: setuptools>=41.0.0 in /opt/conda/lib/python3.7/site-packages (from tensorboard<2.1.0,>=2.0.0->tensorflow==2.0) (59.8.0)\r\n",
      "Requirement already satisfied: requests<3,>=2.21.0 in /opt/conda/lib/python3.7/site-packages (from tensorboard<2.1.0,>=2.0.0->tensorflow==2.0) (2.28.2)\r\n",
      "Requirement already satisfied: google-auth<2,>=1.6.3 in /opt/conda/lib/python3.7/site-packages (from tensorboard<2.1.0,>=2.0.0->tensorflow==2.0) (1.35.0)\r\n",
      "Requirement already satisfied: markdown>=2.6.8 in /opt/conda/lib/python3.7/site-packages (from tensorboard<2.1.0,>=2.0.0->tensorflow==2.0) (3.4.1)\r\n",
      "Requirement already satisfied: google-auth-oauthlib<0.5,>=0.4.1 in /opt/conda/lib/python3.7/site-packages (from tensorboard<2.1.0,>=2.0.0->tensorflow==2.0) (0.4.6)\r\n",
      "Requirement already satisfied: werkzeug>=0.11.15 in /opt/conda/lib/python3.7/site-packages (from tensorboard<2.1.0,>=2.0.0->tensorflow==2.0) (2.2.3)\r\n",
      "Requirement already satisfied: rsa<5,>=3.1.4 in /opt/conda/lib/python3.7/site-packages (from google-auth<2,>=1.6.3->tensorboard<2.1.0,>=2.0.0->tensorflow==2.0) (4.9)\r\n",
      "Requirement already satisfied: pyasn1-modules>=0.2.1 in /opt/conda/lib/python3.7/site-packages (from google-auth<2,>=1.6.3->tensorboard<2.1.0,>=2.0.0->tensorflow==2.0) (0.2.8)\r\n",
      "Requirement already satisfied: cachetools<5.0,>=2.0.0 in /opt/conda/lib/python3.7/site-packages (from google-auth<2,>=1.6.3->tensorboard<2.1.0,>=2.0.0->tensorflow==2.0) (4.2.4)\r\n",
      "Requirement already satisfied: requests-oauthlib>=0.7.0 in /opt/conda/lib/python3.7/site-packages (from google-auth-oauthlib<0.5,>=0.4.1->tensorboard<2.1.0,>=2.0.0->tensorflow==2.0) (1.3.1)\r\n",
      "Requirement already satisfied: importlib-metadata>=4.4 in /opt/conda/lib/python3.7/site-packages (from markdown>=2.6.8->tensorboard<2.1.0,>=2.0.0->tensorflow==2.0) (4.11.4)\r\n",
      "Requirement already satisfied: idna<4,>=2.5 in /opt/conda/lib/python3.7/site-packages (from requests<3,>=2.21.0->tensorboard<2.1.0,>=2.0.0->tensorflow==2.0) (3.4)\r\n",
      "Requirement already satisfied: urllib3<1.27,>=1.21.1 in /opt/conda/lib/python3.7/site-packages (from requests<3,>=2.21.0->tensorboard<2.1.0,>=2.0.0->tensorflow==2.0) (1.26.14)\r\n",
      "Requirement already satisfied: charset-normalizer<4,>=2 in /opt/conda/lib/python3.7/site-packages (from requests<3,>=2.21.0->tensorboard<2.1.0,>=2.0.0->tensorflow==2.0) (2.1.1)\r\n",
      "Requirement already satisfied: certifi>=2017.4.17 in /opt/conda/lib/python3.7/site-packages (from requests<3,>=2.21.0->tensorboard<2.1.0,>=2.0.0->tensorflow==2.0) (2022.12.7)\r\n",
      "Requirement already satisfied: MarkupSafe>=2.1.1 in /opt/conda/lib/python3.7/site-packages (from werkzeug>=0.11.15->tensorboard<2.1.0,>=2.0.0->tensorflow==2.0) (2.1.1)\r\n",
      "Requirement already satisfied: zipp>=0.5 in /opt/conda/lib/python3.7/site-packages (from importlib-metadata>=4.4->markdown>=2.6.8->tensorboard<2.1.0,>=2.0.0->tensorflow==2.0) (3.11.0)\r\n",
      "Requirement already satisfied: typing-extensions>=3.6.4 in /opt/conda/lib/python3.7/site-packages (from importlib-metadata>=4.4->markdown>=2.6.8->tensorboard<2.1.0,>=2.0.0->tensorflow==2.0) (4.4.0)\r\n",
      "Requirement already satisfied: pyasn1<0.5.0,>=0.4.6 in /opt/conda/lib/python3.7/site-packages (from pyasn1-modules>=0.2.1->google-auth<2,>=1.6.3->tensorboard<2.1.0,>=2.0.0->tensorflow==2.0) (0.4.8)\r\n",
      "Requirement already satisfied: oauthlib>=3.0.0 in /opt/conda/lib/python3.7/site-packages (from requests-oauthlib>=0.7.0->google-auth-oauthlib<0.5,>=0.4.1->tensorboard<2.1.0,>=2.0.0->tensorflow==2.0) (3.2.2)\r\n",
      "Building wheels for collected packages: gast\r\n",
      "  Building wheel for gast (setup.py) ... \u001b[?25l-\b \b\\\b \bdone\r\n",
      "\u001b[?25h  Created wheel for gast: filename=gast-0.2.2-py3-none-any.whl size=7554 sha256=767608460c1022dca61305fca8fdda210d9807d4f1e65a519d70a3de2974767d\r\n",
      "  Stored in directory: /root/.cache/pip/wheels/cf/87/6f/3f34218ef184368cec9ee65bdfd65baf117811f0a0ce1263ff\r\n",
      "Successfully built gast\r\n",
      "Installing collected packages: tensorflow-estimator, keras-preprocessing, gast, astor, keras-applications, tensorboard, tensorflow\r\n",
      "  Attempting uninstall: tensorflow-estimator\r\n",
      "    Found existing installation: tensorflow-estimator 2.11.0\r\n",
      "    Uninstalling tensorflow-estimator-2.11.0:\r\n",
      "      Successfully uninstalled tensorflow-estimator-2.11.0\r\n",
      "  Attempting uninstall: gast\r\n",
      "    Found existing installation: gast 0.4.0\r\n",
      "    Uninstalling gast-0.4.0:\r\n",
      "      Successfully uninstalled gast-0.4.0\r\n",
      "  Attempting uninstall: tensorboard\r\n",
      "    Found existing installation: tensorboard 2.11.2\r\n",
      "    Uninstalling tensorboard-2.11.2:\r\n",
      "      Successfully uninstalled tensorboard-2.11.2\r\n",
      "  Attempting uninstall: tensorflow\r\n",
      "    Found existing installation: tensorflow 2.11.0\r\n",
      "    Uninstalling tensorflow-2.11.0:\r\n",
      "      Successfully uninstalled tensorflow-2.11.0\r\n",
      "\u001b[31mERROR: pip's dependency resolver does not currently take into account all the packages that are installed. This behaviour is the source of the following dependency conflicts.\r\n",
      "tfx-bsl 1.12.0 requires google-api-python-client<2,>=1.7.11, but you have google-api-python-client 2.79.0 which is incompatible.\r\n",
      "tfx-bsl 1.12.0 requires tensorflow<3,>=2.11, but you have tensorflow 2.0.0 which is incompatible.\r\n",
      "tensorflow-transform 1.12.0 requires tensorflow<2.12,>=2.11.0, but you have tensorflow 2.0.0 which is incompatible.\r\n",
      "tensorflow-text 2.11.0 requires tensorflow<2.12,>=2.11.0; platform_machine != \"arm64\" or platform_system != \"Darwin\", but you have tensorflow 2.0.0 which is incompatible.\r\n",
      "tensorflow-serving-api 2.11.0 requires protobuf<3.20,>=3.9.2, but you have protobuf 3.20.3 which is incompatible.\r\n",
      "tensorflow-serving-api 2.11.0 requires tensorflow<3,>=2.11.0, but you have tensorflow 2.0.0 which is incompatible.\r\n",
      "tensorflow-probability 0.19.0 requires gast>=0.3.2, but you have gast 0.2.2 which is incompatible.\r\n",
      "tensorflow-decision-forests 1.2.0 requires tensorflow~=2.11.0, but you have tensorflow 2.0.0 which is incompatible.\r\n",
      "tensorflow-cloud 0.1.16 requires tensorboard>=2.3.0, but you have tensorboard 2.0.2 which is incompatible.\u001b[0m\u001b[31m\r\n",
      "\u001b[0mSuccessfully installed astor-0.8.1 gast-0.2.2 keras-applications-1.0.8 keras-preprocessing-1.1.2 tensorboard-2.0.2 tensorflow-2.0.0 tensorflow-estimator-2.0.1\r\n",
      "\u001b[33mWARNING: Running pip as the 'root' user can result in broken permissions and conflicting behaviour with the system package manager. It is recommended to use a virtual environment instead: https://pip.pypa.io/warnings/venv\u001b[0m\u001b[33m\r\n",
      "\u001b[0m2.11.0\n"
     ]
    }
   ],
   "source": [
    "!pip install tensorflow==2.0\n",
    "import tensorflow as tf\n",
    "print(tf.__version__)"
   ]
  },
  {
   "cell_type": "code",
   "execution_count": 47,
   "id": "2232acf3",
   "metadata": {
    "execution": {
     "iopub.execute_input": "2023-07-07T05:10:11.446124Z",
     "iopub.status.busy": "2023-07-07T05:10:11.445743Z",
     "iopub.status.idle": "2023-07-07T05:10:12.661022Z",
     "shell.execute_reply": "2023-07-07T05:10:12.659568Z"
    },
    "papermill": {
     "duration": 1.242387,
     "end_time": "2023-07-07T05:10:12.663568",
     "exception": false,
     "start_time": "2023-07-07T05:10:11.421181",
     "status": "completed"
    },
    "tags": []
   },
   "outputs": [
    {
     "name": "stdout",
     "output_type": "stream",
     "text": [
      "[nltk_data] Downloading collection 'popular'\n",
      "[nltk_data]    | \n",
      "[nltk_data]    | Downloading package cmudict to\n",
      "[nltk_data]    |     /usr/share/nltk_data...\n",
      "[nltk_data]    |   Package cmudict is already up-to-date!\n",
      "[nltk_data]    | Downloading package gazetteers to\n",
      "[nltk_data]    |     /usr/share/nltk_data...\n",
      "[nltk_data]    |   Package gazetteers is already up-to-date!\n",
      "[nltk_data]    | Downloading package genesis to\n",
      "[nltk_data]    |     /usr/share/nltk_data...\n",
      "[nltk_data]    |   Package genesis is already up-to-date!\n",
      "[nltk_data]    | Downloading package gutenberg to\n",
      "[nltk_data]    |     /usr/share/nltk_data...\n",
      "[nltk_data]    |   Package gutenberg is already up-to-date!\n",
      "[nltk_data]    | Downloading package inaugural to\n",
      "[nltk_data]    |     /usr/share/nltk_data...\n",
      "[nltk_data]    |   Package inaugural is already up-to-date!\n",
      "[nltk_data]    | Downloading package movie_reviews to\n",
      "[nltk_data]    |     /usr/share/nltk_data...\n",
      "[nltk_data]    |   Package movie_reviews is already up-to-date!\n",
      "[nltk_data]    | Downloading package names to /usr/share/nltk_data...\n",
      "[nltk_data]    |   Package names is already up-to-date!\n",
      "[nltk_data]    | Downloading package shakespeare to\n",
      "[nltk_data]    |     /usr/share/nltk_data...\n",
      "[nltk_data]    |   Package shakespeare is already up-to-date!\n",
      "[nltk_data]    | Downloading package stopwords to\n",
      "[nltk_data]    |     /usr/share/nltk_data...\n",
      "[nltk_data]    |   Package stopwords is already up-to-date!\n",
      "[nltk_data]    | Downloading package treebank to\n",
      "[nltk_data]    |     /usr/share/nltk_data...\n",
      "[nltk_data]    |   Package treebank is already up-to-date!\n",
      "[nltk_data]    | Downloading package twitter_samples to\n",
      "[nltk_data]    |     /usr/share/nltk_data...\n",
      "[nltk_data]    |   Package twitter_samples is already up-to-date!\n",
      "[nltk_data]    | Downloading package omw to /usr/share/nltk_data...\n",
      "[nltk_data]    |   Package omw is already up-to-date!\n",
      "[nltk_data]    | Downloading package omw-1.4 to\n",
      "[nltk_data]    |     /usr/share/nltk_data...\n",
      "[nltk_data]    | Downloading package wordnet to\n",
      "[nltk_data]    |     /usr/share/nltk_data...\n",
      "[nltk_data]    |   Package wordnet is already up-to-date!\n",
      "[nltk_data]    | Downloading package wordnet2021 to\n",
      "[nltk_data]    |     /usr/share/nltk_data...\n",
      "[nltk_data]    | Downloading package wordnet31 to\n",
      "[nltk_data]    |     /usr/share/nltk_data...\n",
      "[nltk_data]    | Downloading package wordnet_ic to\n",
      "[nltk_data]    |     /usr/share/nltk_data...\n",
      "[nltk_data]    |   Package wordnet_ic is already up-to-date!\n",
      "[nltk_data]    | Downloading package words to /usr/share/nltk_data...\n",
      "[nltk_data]    |   Package words is already up-to-date!\n",
      "[nltk_data]    | Downloading package maxent_ne_chunker to\n",
      "[nltk_data]    |     /usr/share/nltk_data...\n",
      "[nltk_data]    |   Package maxent_ne_chunker is already up-to-date!\n",
      "[nltk_data]    | Downloading package punkt to /usr/share/nltk_data...\n",
      "[nltk_data]    |   Package punkt is already up-to-date!\n",
      "[nltk_data]    | Downloading package snowball_data to\n",
      "[nltk_data]    |     /usr/share/nltk_data...\n",
      "[nltk_data]    |   Package snowball_data is already up-to-date!\n",
      "[nltk_data]    | Downloading package averaged_perceptron_tagger to\n",
      "[nltk_data]    |     /usr/share/nltk_data...\n",
      "[nltk_data]    |   Package averaged_perceptron_tagger is already up-\n",
      "[nltk_data]    |       to-date!\n",
      "[nltk_data]    | \n",
      "[nltk_data]  Done downloading collection popular\n"
     ]
    }
   ],
   "source": [
    "import nltk\n",
    "nltk.download(\"popular\")\n",
    "from nltk.tokenize import word_tokenize"
   ]
  },
  {
   "cell_type": "code",
   "execution_count": 48,
   "id": "1ece9432",
   "metadata": {
    "execution": {
     "iopub.execute_input": "2023-07-07T05:10:12.714391Z",
     "iopub.status.busy": "2023-07-07T05:10:12.713337Z",
     "iopub.status.idle": "2023-07-07T05:10:27.664061Z",
     "shell.execute_reply": "2023-07-07T05:10:27.658842Z"
    },
    "papermill": {
     "duration": 14.983582,
     "end_time": "2023-07-07T05:10:27.671760",
     "exception": false,
     "start_time": "2023-07-07T05:10:12.688178",
     "status": "completed"
    },
    "tags": []
   },
   "outputs": [
    {
     "name": "stdout",
     "output_type": "stream",
     "text": [
      "Collecting bert-for-tf2\r\n",
      "  Downloading bert-for-tf2-0.14.9.tar.gz (41 kB)\r\n",
      "\u001b[2K     \u001b[90m━━━━━━━━━━━━━━━━━━━━━━━━━━━━━━━━━━━━━━━━\u001b[0m \u001b[32m41.2/41.2 kB\u001b[0m \u001b[31m3.1 MB/s\u001b[0m eta \u001b[36m0:00:00\u001b[0m\r\n",
      "\u001b[?25h  Preparing metadata (setup.py) ... \u001b[?25l-\b \bdone\r\n",
      "\u001b[?25hCollecting py-params>=0.9.6\r\n",
      "  Downloading py-params-0.10.2.tar.gz (7.4 kB)\r\n",
      "  Preparing metadata (setup.py) ... \u001b[?25l-\b \bdone\r\n",
      "\u001b[?25hCollecting params-flow>=0.8.0\r\n",
      "  Downloading params-flow-0.8.2.tar.gz (22 kB)\r\n",
      "  Preparing metadata (setup.py) ... \u001b[?25l-\b \bdone\r\n",
      "\u001b[?25hRequirement already satisfied: numpy in /opt/conda/lib/python3.7/site-packages (from params-flow>=0.8.0->bert-for-tf2) (1.21.6)\r\n",
      "Requirement already satisfied: tqdm in /opt/conda/lib/python3.7/site-packages (from params-flow>=0.8.0->bert-for-tf2) (4.64.1)\r\n",
      "Building wheels for collected packages: bert-for-tf2, params-flow, py-params\r\n",
      "  Building wheel for bert-for-tf2 (setup.py) ... \u001b[?25l-\b \bdone\r\n",
      "\u001b[?25h  Created wheel for bert-for-tf2: filename=bert_for_tf2-0.14.9-py3-none-any.whl size=30534 sha256=76b51cd4ca67e79c01d53823a442ae04ec371e487b66bce8ebbd01e24bbada9f\r\n",
      "  Stored in directory: /root/.cache/pip/wheels/d3/b3/5f/1ba04fd4e099213b9c9a3f5b1ac5548fa2e599cb8fc9a868cc\r\n",
      "  Building wheel for params-flow (setup.py) ... \u001b[?25l-\b \bdone\r\n",
      "\u001b[?25h  Created wheel for params-flow: filename=params_flow-0.8.2-py3-none-any.whl size=19472 sha256=3de56fd0f9775da7128c9f8379c5b14c40172b5ece51341537dc50cbcc13a7bf\r\n",
      "  Stored in directory: /root/.cache/pip/wheels/91/17/7a/d8dc86bae260c349990d0c36b60685b2c4cd601866d083d471\r\n",
      "  Building wheel for py-params (setup.py) ... \u001b[?25l-\b \bdone\r\n",
      "\u001b[?25h  Created wheel for py-params: filename=py_params-0.10.2-py3-none-any.whl size=7911 sha256=b73718705d38a8daac670c672feeb28bcc22a3908c6b584d05e7f916798c52f4\r\n",
      "  Stored in directory: /root/.cache/pip/wheels/c4/94/74/551bca501c76c25b5f8512e8dc531f9a24dd221cdbbd3e6321\r\n",
      "Successfully built bert-for-tf2 params-flow py-params\r\n",
      "Installing collected packages: py-params, params-flow, bert-for-tf2\r\n",
      "Successfully installed bert-for-tf2-0.14.9 params-flow-0.8.2 py-params-0.10.2\r\n",
      "\u001b[33mWARNING: Running pip as the 'root' user can result in broken permissions and conflicting behaviour with the system package manager. It is recommended to use a virtual environment instead: https://pip.pypa.io/warnings/venv\u001b[0m\u001b[33m\r\n",
      "\u001b[0m"
     ]
    }
   ],
   "source": [
    "!pip install bert-for-tf2"
   ]
  },
  {
   "cell_type": "code",
   "execution_count": 49,
   "id": "adbca162",
   "metadata": {
    "execution": {
     "iopub.execute_input": "2023-07-07T05:10:27.744860Z",
     "iopub.status.busy": "2023-07-07T05:10:27.744076Z",
     "iopub.status.idle": "2023-07-07T05:10:27.790495Z",
     "shell.execute_reply": "2023-07-07T05:10:27.789703Z"
    },
    "papermill": {
     "duration": 0.083686,
     "end_time": "2023-07-07T05:10:27.793302",
     "exception": false,
     "start_time": "2023-07-07T05:10:27.709616",
     "status": "completed"
    },
    "tags": []
   },
   "outputs": [],
   "source": [
    "from bert import tokenization\n",
    "from bert.tokenization.bert_tokenization import FullTokenizer"
   ]
  },
  {
   "cell_type": "code",
   "execution_count": 50,
   "id": "ad7c7cf8",
   "metadata": {
    "execution": {
     "iopub.execute_input": "2023-07-07T05:10:27.857517Z",
     "iopub.status.busy": "2023-07-07T05:10:27.856963Z",
     "iopub.status.idle": "2023-07-07T05:10:28.026384Z",
     "shell.execute_reply": "2023-07-07T05:10:28.025105Z"
    },
    "papermill": {
     "duration": 0.204488,
     "end_time": "2023-07-07T05:10:28.029887",
     "exception": false,
     "start_time": "2023-07-07T05:10:27.825399",
     "status": "completed"
    },
    "tags": []
   },
   "outputs": [],
   "source": [
    "vocab_file = bert_layer.resolved_object.vocab_file.asset_path.numpy()\n",
    "do_lower_case = bert_layer.resolved_object.do_lower_case.numpy()\n",
    "tokenizer = FullTokenizer(vocab_file, do_lower_case)\n",
    "\n",
    "def bert_encode(texts, tokenizer, max_len=512):\n",
    "    all_tokens = []\n",
    "    all_masks = []\n",
    "    all_segments = []\n",
    "    \n",
    "    for text in texts:\n",
    "        text = tokenizer.tokenize(text)\n",
    "        \n",
    "        text = text[:max_len-2]\n",
    "        input_sequence = [\"[CLS]\"] + text + [\"[SEP]\"]\n",
    "        pad_len = max_len-len(input_sequence)\n",
    "        \n",
    "        tokens = tokenizer.convert_tokens_to_ids(input_sequence) + [0] * pad_len\n",
    "        pad_masks = [1] * len(input_sequence) + [0] * pad_len\n",
    "        segment_ids = [0] * max_len\n",
    "        \n",
    "        all_tokens.append(tokens)\n",
    "        all_masks.append(pad_masks)\n",
    "        all_segments.append(segment_ids)\n",
    "        \n",
    "    return np.array(all_tokens), np.array(all_masks), np.array(all_segments)"
   ]
  },
  {
   "cell_type": "markdown",
   "id": "c1a78b7d",
   "metadata": {
    "papermill": {
     "duration": 0.029474,
     "end_time": "2023-07-07T05:10:28.089166",
     "exception": false,
     "start_time": "2023-07-07T05:10:28.059692",
     "status": "completed"
    },
    "tags": []
   },
   "source": [
    "### Build the Model"
   ]
  },
  {
   "cell_type": "code",
   "execution_count": 51,
   "id": "fd33047e",
   "metadata": {
    "execution": {
     "iopub.execute_input": "2023-07-07T05:10:28.199260Z",
     "iopub.status.busy": "2023-07-07T05:10:28.198491Z",
     "iopub.status.idle": "2023-07-07T05:10:28.207593Z",
     "shell.execute_reply": "2023-07-07T05:10:28.206701Z"
    },
    "papermill": {
     "duration": 0.076941,
     "end_time": "2023-07-07T05:10:28.210291",
     "exception": false,
     "start_time": "2023-07-07T05:10:28.133350",
     "status": "completed"
    },
    "tags": []
   },
   "outputs": [],
   "source": [
    "def build_model(bert_layer, max_len=512):\n",
    "    input_word_ids = tf.keras.Input(shape=(max_len,), dtype=tf.int32, name=\"input_word_ids\")\n",
    "    input_mask = tf.keras.Input(shape=(max_len,), dtype=tf.int32, name=\"input_mask\")\n",
    "    segment_ids = tf.keras.Input(shape=(max_len,), dtype=tf.int32, name=\"segment_ids\")\n",
    "    \n",
    "    pooled_output, sequence_output = bert_layer([input_word_ids, input_mask, segment_ids])\n",
    "    \n",
    "    clf_output = sequence_output[:, 0, :]\n",
    "    \n",
    "    lay = tf.keras.layers.Dense(64, activation='relu')(clf_output)\n",
    "    lay = tf.keras.layers.Dropout(0.2)(lay)\n",
    "    lay = tf.keras.layers.Dense(32, activation='relu')(lay)\n",
    "    lay = tf.keras.layers.Dropout(0.2)(lay)\n",
    "    out = tf.keras.layers.Dense(5, activation='softmax')(lay)\n",
    "    \n",
    "    model = tf.keras.models.Model(inputs=[input_word_ids, input_mask, segment_ids], outputs=out)\n",
    "    model.compile(tf.keras.optimizers.Adam(lr=2e-5), loss='categorical_crossentropy', metrics=['accuracy'])\n",
    "    \n",
    "    return model"
   ]
  },
  {
   "cell_type": "code",
   "execution_count": 52,
   "id": "e9fee791",
   "metadata": {
    "execution": {
     "iopub.execute_input": "2023-07-07T05:10:28.273627Z",
     "iopub.status.busy": "2023-07-07T05:10:28.273233Z",
     "iopub.status.idle": "2023-07-07T05:10:28.932718Z",
     "shell.execute_reply": "2023-07-07T05:10:28.931803Z"
    },
    "papermill": {
     "duration": 0.692662,
     "end_time": "2023-07-07T05:10:28.935375",
     "exception": false,
     "start_time": "2023-07-07T05:10:28.242713",
     "status": "completed"
    },
    "tags": []
   },
   "outputs": [],
   "source": [
    "max_len = 250\n",
    "train_input = bert_encode(train_X.values, tokenizer, max_len=max_len)\n",
    "test_input = bert_encode(test_x.values, tokenizer, max_len=max_len)\n",
    "train_labels = train_y"
   ]
  },
  {
   "cell_type": "code",
   "execution_count": 53,
   "id": "ef27e08f",
   "metadata": {
    "execution": {
     "iopub.execute_input": "2023-07-07T05:10:29.008930Z",
     "iopub.status.busy": "2023-07-07T05:10:29.008514Z",
     "iopub.status.idle": "2023-07-07T05:10:29.014214Z",
     "shell.execute_reply": "2023-07-07T05:10:29.013216Z"
    },
    "papermill": {
     "duration": 0.046296,
     "end_time": "2023-07-07T05:10:29.016426",
     "exception": false,
     "start_time": "2023-07-07T05:10:28.970130",
     "status": "completed"
    },
    "tags": []
   },
   "outputs": [
    {
     "name": "stdout",
     "output_type": "stream",
     "text": [
      "[' heavy noise front fins quality is worst road side cooler front fin quality is much better than this cooler not wort it '\n",
      " ' very nice product '\n",
      " '1 the fan speed was too good 2 cooling is very nice and in summer too it had given immense cooling effect355 litres capacity so half day sufficient for usagein summerin winter more hours it will run with that water4 there is valve at bottom so we can drain out the water and can keep it aside in non usage period like winter5 shape was too good go for it blindly'\n",
      " ...\n",
      " 'yes its quite goodyou can go for it nicely deliveredthank you flipkart'\n",
      " 'you can also buy without any hesitation ' 'yup satisfied ']\n"
     ]
    }
   ],
   "source": [
    "labels = label.classes_\n",
    "print(labels)"
   ]
  },
  {
   "cell_type": "code",
   "execution_count": 54,
   "id": "e4cbabf6",
   "metadata": {
    "execution": {
     "iopub.execute_input": "2023-07-07T05:10:29.089903Z",
     "iopub.status.busy": "2023-07-07T05:10:29.089394Z",
     "iopub.status.idle": "2023-07-07T05:10:31.059182Z",
     "shell.execute_reply": "2023-07-07T05:10:31.058050Z"
    },
    "papermill": {
     "duration": 2.015575,
     "end_time": "2023-07-07T05:10:31.067950",
     "exception": false,
     "start_time": "2023-07-07T05:10:29.052375",
     "status": "completed"
    },
    "tags": []
   },
   "outputs": [
    {
     "name": "stdout",
     "output_type": "stream",
     "text": [
      "Model: \"model\"\n",
      "__________________________________________________________________________________________________\n",
      " Layer (type)                   Output Shape         Param #     Connected to                     \n",
      "==================================================================================================\n",
      " input_word_ids (InputLayer)    [(None, 250)]        0           []                               \n",
      "                                                                                                  \n",
      " input_mask (InputLayer)        [(None, 250)]        0           []                               \n",
      "                                                                                                  \n",
      " segment_ids (InputLayer)       [(None, 250)]        0           []                               \n",
      "                                                                                                  \n",
      " keras_layer (KerasLayer)       [(None, 768),        109482241   ['input_word_ids[0][0]',         \n",
      "                                 (None, 250, 768)]                'input_mask[0][0]',             \n",
      "                                                                  'segment_ids[0][0]']            \n",
      "                                                                                                  \n",
      " tf.__operators__.getitem (Slic  (None, 768)         0           ['keras_layer[0][1]']            \n",
      " ingOpLambda)                                                                                     \n",
      "                                                                                                  \n",
      " dense (Dense)                  (None, 64)           49216       ['tf.__operators__.getitem[0][0]'\n",
      "                                                                 ]                                \n",
      "                                                                                                  \n",
      " dropout (Dropout)              (None, 64)           0           ['dense[0][0]']                  \n",
      "                                                                                                  \n",
      " dense_1 (Dense)                (None, 32)           2080        ['dropout[0][0]']                \n",
      "                                                                                                  \n",
      " dropout_1 (Dropout)            (None, 32)           0           ['dense_1[0][0]']                \n",
      "                                                                                                  \n",
      " dense_2 (Dense)                (None, 5)            165         ['dropout_1[0][0]']              \n",
      "                                                                                                  \n",
      "==================================================================================================\n",
      "Total params: 109,533,702\n",
      "Trainable params: 109,533,701\n",
      "Non-trainable params: 1\n",
      "__________________________________________________________________________________________________\n"
     ]
    }
   ],
   "source": [
    "model = build_model(bert_layer, max_len=max_len)\n",
    "model.summary()"
   ]
  },
  {
   "cell_type": "code",
   "execution_count": 55,
   "id": "0b11961d",
   "metadata": {
    "execution": {
     "iopub.execute_input": "2023-07-07T05:10:31.141525Z",
     "iopub.status.busy": "2023-07-07T05:10:31.140476Z",
     "iopub.status.idle": "2023-07-07T05:10:31.149716Z",
     "shell.execute_reply": "2023-07-07T05:10:31.148059Z"
    },
    "papermill": {
     "duration": 0.042573,
     "end_time": "2023-07-07T05:10:31.152308",
     "exception": false,
     "start_time": "2023-07-07T05:10:31.109735",
     "status": "completed"
    },
    "tags": []
   },
   "outputs": [
    {
     "name": "stdout",
     "output_type": "stream",
     "text": [
      "[[1. 0. 0. 0. 0.]\n",
      " [0. 0. 0. 1. 0.]\n",
      " [0. 0. 0. 1. 0.]\n",
      " [0. 0. 0. 1. 0.]\n",
      " [0. 0. 0. 0. 1.]]\n"
     ]
    }
   ],
   "source": [
    "label = preprocessing.LabelEncoder()\n",
    "y = label.fit_transform(train_labels)\n",
    "y = to_categorical(y)\n",
    "print(y[:5])"
   ]
  },
  {
   "cell_type": "code",
   "execution_count": 56,
   "id": "ea83188e",
   "metadata": {
    "execution": {
     "iopub.execute_input": "2023-07-07T05:10:31.216607Z",
     "iopub.status.busy": "2023-07-07T05:10:31.215366Z",
     "iopub.status.idle": "2023-07-07T06:25:19.620006Z",
     "shell.execute_reply": "2023-07-07T06:25:19.618676Z"
    },
    "papermill": {
     "duration": 4488.436582,
     "end_time": "2023-07-07T06:25:19.622590",
     "exception": false,
     "start_time": "2023-07-07T05:10:31.186008",
     "status": "completed"
    },
    "tags": []
   },
   "outputs": [
    {
     "name": "stdout",
     "output_type": "stream",
     "text": [
      "Epoch 1/3\n",
      "38/38 [==============================] - ETA: 0s - loss: 1.3292 - accuracy: 0.5322 \n",
      "Epoch 1: val_accuracy improved from -inf to 0.55592, saving model to model.h5\n",
      "38/38 [==============================] - 1496s 39s/step - loss: 1.3292 - accuracy: 0.5322 - val_loss: 1.2475 - val_accuracy: 0.5559\n",
      "Epoch 2/3\n",
      "38/38 [==============================] - ETA: 0s - loss: 1.2645 - accuracy: 0.5594 \n",
      "Epoch 2: val_accuracy did not improve from 0.55592\n",
      "38/38 [==============================] - 1484s 39s/step - loss: 1.2645 - accuracy: 0.5594 - val_loss: 1.2504 - val_accuracy: 0.5559\n",
      "Epoch 3/3\n",
      "38/38 [==============================] - ETA: 0s - loss: 1.2405 - accuracy: 0.5743 \n",
      "Epoch 3: val_accuracy did not improve from 0.55592\n",
      "38/38 [==============================] - 1497s 40s/step - loss: 1.2405 - accuracy: 0.5743 - val_loss: 1.2490 - val_accuracy: 0.5559\n"
     ]
    }
   ],
   "source": [
    "checkpoint = tf.keras.callbacks.ModelCheckpoint('model.h5', monitor='val_accuracy', save_best_only=True, verbose=1)\n",
    "earlystopping = tf.keras.callbacks.EarlyStopping(monitor='val_accuracy', patience=5, verbose=1)\n",
    "\n",
    "train_sh = model.fit(\n",
    "    train_input, y,\n",
    "    validation_split=0.2,\n",
    "    epochs=3,\n",
    "    callbacks=[checkpoint, earlystopping],\n",
    "    batch_size=32,\n",
    "    verbose=1\n",
    ")"
   ]
  },
  {
   "cell_type": "markdown",
   "id": "a6cc33d9",
   "metadata": {
    "papermill": {
     "duration": 0.034284,
     "end_time": "2023-07-07T06:25:19.691891",
     "exception": false,
     "start_time": "2023-07-07T06:25:19.657607",
     "status": "completed"
    },
    "tags": []
   },
   "source": [
    "## Evaluating the Bert Model"
   ]
  },
  {
   "cell_type": "code",
   "execution_count": 57,
   "id": "0eee67a9",
   "metadata": {
    "execution": {
     "iopub.execute_input": "2023-07-07T06:25:19.763848Z",
     "iopub.status.busy": "2023-07-07T06:25:19.763107Z",
     "iopub.status.idle": "2023-07-07T06:27:45.374604Z",
     "shell.execute_reply": "2023-07-07T06:27:45.372738Z"
    },
    "papermill": {
     "duration": 145.660036,
     "end_time": "2023-07-07T06:27:45.386752",
     "exception": false,
     "start_time": "2023-07-07T06:25:19.726716",
     "status": "completed"
    },
    "tags": []
   },
   "outputs": [
    {
     "name": "stdout",
     "output_type": "stream",
     "text": [
      "12/12 [==============================] - 146s 12s/step\n"
     ]
    }
   ],
   "source": [
    "prediction = model.predict(test_input)"
   ]
  },
  {
   "cell_type": "code",
   "execution_count": 58,
   "id": "f19ab957",
   "metadata": {
    "execution": {
     "iopub.execute_input": "2023-07-07T06:27:45.523538Z",
     "iopub.status.busy": "2023-07-07T06:27:45.522914Z",
     "iopub.status.idle": "2023-07-07T06:27:45.532442Z",
     "shell.execute_reply": "2023-07-07T06:27:45.531001Z"
    },
    "papermill": {
     "duration": 0.113054,
     "end_time": "2023-07-07T06:27:45.534909",
     "exception": false,
     "start_time": "2023-07-07T06:27:45.421855",
     "status": "completed"
    },
    "tags": []
   },
   "outputs": [
    {
     "data": {
      "text/plain": [
       "array([[0.08764995, 0.03387451, 0.1103043 , 0.2361243 , 0.53204685],\n",
       "       [0.08764995, 0.03387451, 0.11030432, 0.23612429, 0.53204685],\n",
       "       [0.08764995, 0.03387451, 0.1103043 , 0.23612428, 0.53204685],\n",
       "       ...,\n",
       "       [0.08764996, 0.03387451, 0.11030433, 0.23612432, 0.5320469 ],\n",
       "       [0.08764996, 0.0338745 , 0.11030432, 0.23612434, 0.5320469 ],\n",
       "       [0.08764998, 0.03387452, 0.11030433, 0.23612429, 0.53204685]],\n",
       "      dtype=float32)"
      ]
     },
     "execution_count": 58,
     "metadata": {},
     "output_type": "execute_result"
    }
   ],
   "source": [
    "prediction"
   ]
  },
  {
   "cell_type": "code",
   "execution_count": 59,
   "id": "9f312d4d",
   "metadata": {
    "execution": {
     "iopub.execute_input": "2023-07-07T06:27:45.608098Z",
     "iopub.status.busy": "2023-07-07T06:27:45.607682Z",
     "iopub.status.idle": "2023-07-07T06:27:45.614057Z",
     "shell.execute_reply": "2023-07-07T06:27:45.613298Z"
    },
    "papermill": {
     "duration": 0.045903,
     "end_time": "2023-07-07T06:27:45.616702",
     "exception": false,
     "start_time": "2023-07-07T06:27:45.570799",
     "status": "completed"
    },
    "tags": []
   },
   "outputs": [
    {
     "data": {
      "text/plain": [
       "(380, 5)"
      ]
     },
     "execution_count": 59,
     "metadata": {},
     "output_type": "execute_result"
    }
   ],
   "source": [
    "prediction.shape"
   ]
  },
  {
   "cell_type": "code",
   "execution_count": 60,
   "id": "fb8be642",
   "metadata": {
    "execution": {
     "iopub.execute_input": "2023-07-07T06:27:45.689796Z",
     "iopub.status.busy": "2023-07-07T06:27:45.689051Z",
     "iopub.status.idle": "2023-07-07T06:27:45.693281Z",
     "shell.execute_reply": "2023-07-07T06:27:45.692654Z"
    },
    "papermill": {
     "duration": 0.043006,
     "end_time": "2023-07-07T06:27:45.695140",
     "exception": false,
     "start_time": "2023-07-07T06:27:45.652134",
     "status": "completed"
    },
    "tags": []
   },
   "outputs": [],
   "source": [
    "pred = np.argmax(prediction, axis = 1)"
   ]
  },
  {
   "cell_type": "code",
   "execution_count": 61,
   "id": "486450ff",
   "metadata": {
    "execution": {
     "iopub.execute_input": "2023-07-07T06:27:45.766909Z",
     "iopub.status.busy": "2023-07-07T06:27:45.766487Z",
     "iopub.status.idle": "2023-07-07T06:27:45.772682Z",
     "shell.execute_reply": "2023-07-07T06:27:45.771494Z"
    },
    "papermill": {
     "duration": 0.04543,
     "end_time": "2023-07-07T06:27:45.775262",
     "exception": false,
     "start_time": "2023-07-07T06:27:45.729832",
     "status": "completed"
    },
    "tags": []
   },
   "outputs": [
    {
     "data": {
      "text/plain": [
       "(380,)"
      ]
     },
     "execution_count": 61,
     "metadata": {},
     "output_type": "execute_result"
    }
   ],
   "source": [
    "pred.shape"
   ]
  },
  {
   "cell_type": "code",
   "execution_count": 62,
   "id": "4d3dc04d",
   "metadata": {
    "execution": {
     "iopub.execute_input": "2023-07-07T06:27:45.848113Z",
     "iopub.status.busy": "2023-07-07T06:27:45.847627Z",
     "iopub.status.idle": "2023-07-07T06:27:45.855486Z",
     "shell.execute_reply": "2023-07-07T06:27:45.854414Z"
    },
    "papermill": {
     "duration": 0.047082,
     "end_time": "2023-07-07T06:27:45.857666",
     "exception": false,
     "start_time": "2023-07-07T06:27:45.810584",
     "status": "completed"
    },
    "tags": []
   },
   "outputs": [
    {
     "data": {
      "text/plain": [
       "array([4, 4, 4, 4, 4, 4, 4, 4, 4, 4, 4, 4, 4, 4, 4, 4, 4, 4, 4, 4, 4, 4,\n",
       "       4, 4, 4, 4, 4, 4, 4, 4, 4, 4, 4, 4, 4, 4, 4, 4, 4, 4, 4, 4, 4, 4,\n",
       "       4, 4, 4, 4, 4, 4, 4, 4, 4, 4, 4, 4, 4, 4, 4, 4, 4, 4, 4, 4, 4, 4,\n",
       "       4, 4, 4, 4, 4, 4, 4, 4, 4, 4, 4, 4, 4, 4, 4, 4, 4, 4, 4, 4, 4, 4,\n",
       "       4, 4, 4, 4, 4, 4, 4, 4, 4, 4, 4, 4, 4, 4, 4, 4, 4, 4, 4, 4, 4, 4,\n",
       "       4, 4, 4, 4, 4, 4, 4, 4, 4, 4, 4, 4, 4, 4, 4, 4, 4, 4, 4, 4, 4, 4,\n",
       "       4, 4, 4, 4, 4, 4, 4, 4, 4, 4, 4, 4, 4, 4, 4, 4, 4, 4, 4, 4, 4, 4,\n",
       "       4, 4, 4, 4, 4, 4, 4, 4, 4, 4, 4, 4, 4, 4, 4, 4, 4, 4, 4, 4, 4, 4,\n",
       "       4, 4, 4, 4, 4, 4, 4, 4, 4, 4, 4, 4, 4, 4, 4, 4, 4, 4, 4, 4, 4, 4,\n",
       "       4, 4, 4, 4, 4, 4, 4, 4, 4, 4, 4, 4, 4, 4, 4, 4, 4, 4, 4, 4, 4, 4,\n",
       "       4, 4, 4, 4, 4, 4, 4, 4, 4, 4, 4, 4, 4, 4, 4, 4, 4, 4, 4, 4, 4, 4,\n",
       "       4, 4, 4, 4, 4, 4, 4, 4, 4, 4, 4, 4, 4, 4, 4, 4, 4, 4, 4, 4, 4, 4,\n",
       "       4, 4, 4, 4, 4, 4, 4, 4, 4, 4, 4, 4, 4, 4, 4, 4, 4, 4, 4, 4, 4, 4,\n",
       "       4, 4, 4, 4, 4, 4, 4, 4, 4, 4, 4, 4, 4, 4, 4, 4, 4, 4, 4, 4, 4, 4,\n",
       "       4, 4, 4, 4, 4, 4, 4, 4, 4, 4, 4, 4, 4, 4, 4, 4, 4, 4, 4, 4, 4, 4,\n",
       "       4, 4, 4, 4, 4, 4, 4, 4, 4, 4, 4, 4, 4, 4, 4, 4, 4, 4, 4, 4, 4, 4,\n",
       "       4, 4, 4, 4, 4, 4, 4, 4, 4, 4, 4, 4, 4, 4, 4, 4, 4, 4, 4, 4, 4, 4,\n",
       "       4, 4, 4, 4, 4, 4])"
      ]
     },
     "execution_count": 62,
     "metadata": {},
     "output_type": "execute_result"
    }
   ],
   "source": [
    "pred"
   ]
  },
  {
   "cell_type": "code",
   "execution_count": 63,
   "id": "41438940",
   "metadata": {
    "execution": {
     "iopub.execute_input": "2023-07-07T06:27:45.930286Z",
     "iopub.status.busy": "2023-07-07T06:27:45.929885Z",
     "iopub.status.idle": "2023-07-07T06:27:45.938666Z",
     "shell.execute_reply": "2023-07-07T06:27:45.937448Z"
    },
    "papermill": {
     "duration": 0.048478,
     "end_time": "2023-07-07T06:27:45.941161",
     "exception": false,
     "start_time": "2023-07-07T06:27:45.892683",
     "status": "completed"
    },
    "tags": []
   },
   "outputs": [
    {
     "data": {
      "text/plain": [
       "0.0"
      ]
     },
     "execution_count": 63,
     "metadata": {},
     "output_type": "execute_result"
    }
   ],
   "source": [
    "from sklearn.metrics import accuracy_score\n",
    "accuracy_score(test_y, pred)"
   ]
  }
 ],
 "metadata": {
  "kernelspec": {
   "display_name": "Python 3",
   "language": "python",
   "name": "python3"
  },
  "language_info": {
   "codemirror_mode": {
    "name": "ipython",
    "version": 3
   },
   "file_extension": ".py",
   "mimetype": "text/x-python",
   "name": "python",
   "nbconvert_exporter": "python",
   "pygments_lexer": "ipython3",
   "version": "3.7.12"
  },
  "papermill": {
   "default_parameters": {},
   "duration": 4768.804472,
   "end_time": "2023-07-07T06:27:49.572490",
   "environment_variables": {},
   "exception": null,
   "input_path": "__notebook__.ipynb",
   "output_path": "__notebook__.ipynb",
   "parameters": {},
   "start_time": "2023-07-07T05:08:20.768018",
   "version": "2.4.0"
  }
 },
 "nbformat": 4,
 "nbformat_minor": 5
}
